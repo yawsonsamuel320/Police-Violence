{
 "cells": [
  {
   "cell_type": "code",
   "execution_count": 1,
   "metadata": {},
   "outputs": [],
   "source": [
    "# Import the necessary libraries\n",
    "import numpy as np\n",
    "import pandas as pd\n",
    "\n",
    "# For visualisation\n",
    "import matplotlib.pyplot as plt\n",
    "import seaborn as sns\n",
    "\n",
    "# Import datetime\n",
    "import datetime"
   ]
  },
  {
   "cell_type": "code",
   "execution_count": 2,
   "metadata": {},
   "outputs": [],
   "source": [
    "# Read the data file\n",
    "filepath = \"datasets/fatal-police-shootings-data.csv\"\n",
    "\n",
    "data = pd.read_csv(filepath, index_col=\"name\", parse_dates=[\"date\"])"
   ]
  },
  {
   "cell_type": "code",
   "execution_count": 3,
   "metadata": {},
   "outputs": [
    {
     "data": {
      "text/html": [
       "<div>\n",
       "<style scoped>\n",
       "    .dataframe tbody tr th:only-of-type {\n",
       "        vertical-align: middle;\n",
       "    }\n",
       "\n",
       "    .dataframe tbody tr th {\n",
       "        vertical-align: top;\n",
       "    }\n",
       "\n",
       "    .dataframe thead th {\n",
       "        text-align: right;\n",
       "    }\n",
       "</style>\n",
       "<table border=\"1\" class=\"dataframe\">\n",
       "  <thead>\n",
       "    <tr style=\"text-align: right;\">\n",
       "      <th></th>\n",
       "      <th>id</th>\n",
       "      <th>date</th>\n",
       "      <th>manner_of_death</th>\n",
       "      <th>armed</th>\n",
       "      <th>age</th>\n",
       "      <th>gender</th>\n",
       "      <th>race</th>\n",
       "      <th>city</th>\n",
       "      <th>state</th>\n",
       "      <th>signs_of_mental_illness</th>\n",
       "      <th>threat_level</th>\n",
       "      <th>flee</th>\n",
       "      <th>body_camera</th>\n",
       "      <th>longitude</th>\n",
       "      <th>latitude</th>\n",
       "      <th>is_geocoding_exact</th>\n",
       "    </tr>\n",
       "    <tr>\n",
       "      <th>name</th>\n",
       "      <th></th>\n",
       "      <th></th>\n",
       "      <th></th>\n",
       "      <th></th>\n",
       "      <th></th>\n",
       "      <th></th>\n",
       "      <th></th>\n",
       "      <th></th>\n",
       "      <th></th>\n",
       "      <th></th>\n",
       "      <th></th>\n",
       "      <th></th>\n",
       "      <th></th>\n",
       "      <th></th>\n",
       "      <th></th>\n",
       "      <th></th>\n",
       "    </tr>\n",
       "  </thead>\n",
       "  <tbody>\n",
       "    <tr>\n",
       "      <th>Tim Elliot</th>\n",
       "      <td>3</td>\n",
       "      <td>2015-01-02</td>\n",
       "      <td>shot</td>\n",
       "      <td>gun</td>\n",
       "      <td>53.0</td>\n",
       "      <td>M</td>\n",
       "      <td>A</td>\n",
       "      <td>Shelton</td>\n",
       "      <td>WA</td>\n",
       "      <td>True</td>\n",
       "      <td>attack</td>\n",
       "      <td>Not fleeing</td>\n",
       "      <td>False</td>\n",
       "      <td>-123.122</td>\n",
       "      <td>47.247</td>\n",
       "      <td>True</td>\n",
       "    </tr>\n",
       "    <tr>\n",
       "      <th>Lewis Lee Lembke</th>\n",
       "      <td>4</td>\n",
       "      <td>2015-01-02</td>\n",
       "      <td>shot</td>\n",
       "      <td>gun</td>\n",
       "      <td>47.0</td>\n",
       "      <td>M</td>\n",
       "      <td>W</td>\n",
       "      <td>Aloha</td>\n",
       "      <td>OR</td>\n",
       "      <td>False</td>\n",
       "      <td>attack</td>\n",
       "      <td>Not fleeing</td>\n",
       "      <td>False</td>\n",
       "      <td>-122.892</td>\n",
       "      <td>45.487</td>\n",
       "      <td>True</td>\n",
       "    </tr>\n",
       "    <tr>\n",
       "      <th>John Paul Quintero</th>\n",
       "      <td>5</td>\n",
       "      <td>2015-01-03</td>\n",
       "      <td>shot and Tasered</td>\n",
       "      <td>unarmed</td>\n",
       "      <td>23.0</td>\n",
       "      <td>M</td>\n",
       "      <td>H</td>\n",
       "      <td>Wichita</td>\n",
       "      <td>KS</td>\n",
       "      <td>False</td>\n",
       "      <td>other</td>\n",
       "      <td>Not fleeing</td>\n",
       "      <td>False</td>\n",
       "      <td>-97.281</td>\n",
       "      <td>37.695</td>\n",
       "      <td>True</td>\n",
       "    </tr>\n",
       "    <tr>\n",
       "      <th>Matthew Hoffman</th>\n",
       "      <td>8</td>\n",
       "      <td>2015-01-04</td>\n",
       "      <td>shot</td>\n",
       "      <td>toy weapon</td>\n",
       "      <td>32.0</td>\n",
       "      <td>M</td>\n",
       "      <td>W</td>\n",
       "      <td>San Francisco</td>\n",
       "      <td>CA</td>\n",
       "      <td>True</td>\n",
       "      <td>attack</td>\n",
       "      <td>Not fleeing</td>\n",
       "      <td>False</td>\n",
       "      <td>-122.422</td>\n",
       "      <td>37.763</td>\n",
       "      <td>True</td>\n",
       "    </tr>\n",
       "    <tr>\n",
       "      <th>Michael Rodriguez</th>\n",
       "      <td>9</td>\n",
       "      <td>2015-01-04</td>\n",
       "      <td>shot</td>\n",
       "      <td>nail gun</td>\n",
       "      <td>39.0</td>\n",
       "      <td>M</td>\n",
       "      <td>H</td>\n",
       "      <td>Evans</td>\n",
       "      <td>CO</td>\n",
       "      <td>False</td>\n",
       "      <td>attack</td>\n",
       "      <td>Not fleeing</td>\n",
       "      <td>False</td>\n",
       "      <td>-104.692</td>\n",
       "      <td>40.384</td>\n",
       "      <td>True</td>\n",
       "    </tr>\n",
       "  </tbody>\n",
       "</table>\n",
       "</div>"
      ],
      "text/plain": [
       "                    id       date   manner_of_death       armed   age gender  \\\n",
       "name                                                                           \n",
       "Tim Elliot           3 2015-01-02              shot         gun  53.0      M   \n",
       "Lewis Lee Lembke     4 2015-01-02              shot         gun  47.0      M   \n",
       "John Paul Quintero   5 2015-01-03  shot and Tasered     unarmed  23.0      M   \n",
       "Matthew Hoffman      8 2015-01-04              shot  toy weapon  32.0      M   \n",
       "Michael Rodriguez    9 2015-01-04              shot    nail gun  39.0      M   \n",
       "\n",
       "                   race           city state  signs_of_mental_illness  \\\n",
       "name                                                                    \n",
       "Tim Elliot            A        Shelton    WA                     True   \n",
       "Lewis Lee Lembke      W          Aloha    OR                    False   \n",
       "John Paul Quintero    H        Wichita    KS                    False   \n",
       "Matthew Hoffman       W  San Francisco    CA                     True   \n",
       "Michael Rodriguez     H          Evans    CO                    False   \n",
       "\n",
       "                   threat_level         flee  body_camera  longitude  \\\n",
       "name                                                                   \n",
       "Tim Elliot               attack  Not fleeing        False   -123.122   \n",
       "Lewis Lee Lembke         attack  Not fleeing        False   -122.892   \n",
       "John Paul Quintero        other  Not fleeing        False    -97.281   \n",
       "Matthew Hoffman          attack  Not fleeing        False   -122.422   \n",
       "Michael Rodriguez        attack  Not fleeing        False   -104.692   \n",
       "\n",
       "                    latitude  is_geocoding_exact  \n",
       "name                                              \n",
       "Tim Elliot            47.247                True  \n",
       "Lewis Lee Lembke      45.487                True  \n",
       "John Paul Quintero    37.695                True  \n",
       "Matthew Hoffman       37.763                True  \n",
       "Michael Rodriguez     40.384                True  "
      ]
     },
     "execution_count": 3,
     "metadata": {},
     "output_type": "execute_result"
    }
   ],
   "source": [
    "# Take a peek at the data\n",
    "data.head()"
   ]
  },
  {
   "cell_type": "code",
   "execution_count": 4,
   "metadata": {},
   "outputs": [],
   "source": [
    "# Drop the \"id\" column\n",
    "data.drop(\"id\", axis=1, inplace=True)"
   ]
  },
  {
   "cell_type": "code",
   "execution_count": 5,
   "metadata": {},
   "outputs": [
    {
     "name": "stdout",
     "output_type": "stream",
     "text": [
      "<class 'pandas.core.frame.DataFrame'>\n",
      "Index: 5782 entries, Tim Elliot to nan\n",
      "Data columns (total 15 columns):\n",
      " #   Column                   Non-Null Count  Dtype         \n",
      "---  ------                   --------------  -----         \n",
      " 0   date                     5782 non-null   datetime64[ns]\n",
      " 1   manner_of_death          5782 non-null   object        \n",
      " 2   armed                    5569 non-null   object        \n",
      " 3   age                      5519 non-null   float64       \n",
      " 4   gender                   5779 non-null   object        \n",
      " 5   race                     5180 non-null   object        \n",
      " 6   city                     5782 non-null   object        \n",
      " 7   state                    5782 non-null   object        \n",
      " 8   signs_of_mental_illness  5782 non-null   bool          \n",
      " 9   threat_level             5782 non-null   object        \n",
      " 10  flee                     5476 non-null   object        \n",
      " 11  body_camera              5782 non-null   bool          \n",
      " 12  longitude                5499 non-null   float64       \n",
      " 13  latitude                 5499 non-null   float64       \n",
      " 14  is_geocoding_exact       5782 non-null   bool          \n",
      "dtypes: bool(3), datetime64[ns](1), float64(3), object(8)\n",
      "memory usage: 604.2+ KB\n"
     ]
    }
   ],
   "source": [
    "# Let's find out what each column is made of\n",
    "data.info()"
   ]
  },
  {
   "cell_type": "code",
   "execution_count": 6,
   "metadata": {},
   "outputs": [],
   "source": [
    "# Find the number of people killed in the past year\n",
    "# Timestamp features\n",
    "data = data.assign(day=data.date.dt.day,\n",
    "                   month=data.date.dt.month,\n",
    "                   year=data.date.dt.year)"
   ]
  },
  {
   "cell_type": "code",
   "execution_count": 7,
   "metadata": {},
   "outputs": [],
   "source": [
    "data_id = data.reset_index()"
   ]
  },
  {
   "cell_type": "code",
   "execution_count": 8,
   "metadata": {},
   "outputs": [
    {
     "data": {
      "text/plain": [
       "date\n",
       "2015-01-02    0\n",
       "2015-01-02    1\n",
       "2015-01-03    2\n",
       "2015-01-04    3\n",
       "2015-01-04    4\n",
       "Name: count_1_year, dtype: int64"
      ]
     },
     "execution_count": 8,
     "metadata": {},
     "output_type": "execute_result"
    }
   ],
   "source": [
    "# First, create a Series with a timestamp index\n",
    "date = pd.Series(data_id .index, index=data_id .date, name=\"count_1_year\").sort_index()\n",
    "date.head()"
   ]
  },
  {
   "cell_type": "code",
   "execution_count": 9,
   "metadata": {},
   "outputs": [],
   "source": [
    "count_1_year = date.rolling(\"366d\").count()"
   ]
  },
  {
   "cell_type": "code",
   "execution_count": 10,
   "metadata": {},
   "outputs": [
    {
     "data": {
      "text/plain": [
       "Text(0.5, 1.0, 'Number of deaths in the past year')"
      ]
     },
     "execution_count": 10,
     "metadata": {},
     "output_type": "execute_result"
    },
    {
     "data": {
      "image/png": "[encoded data removed]",
      "text/plain": [
       "<Figure size 720x432 with 1 Axes>"
      ]
     },
     "metadata": {
      "needs_background": "light"
     },
     "output_type": "display_data"
    }
   ],
   "source": [
    "plt.figure(figsize=(10, 6))\n",
    "\n",
    "plt.plot(count_1_year)\n",
    "plt.title(\"Number of deaths in the past year\")"
   ]
  },
  {
   "cell_type": "code",
   "execution_count": 11,
   "metadata": {},
   "outputs": [
    {
     "data": {
      "text/plain": [
       "989.0"
      ]
     },
     "execution_count": 11,
     "metadata": {},
     "output_type": "execute_result"
    }
   ],
   "source": [
    "# Police Deaths in past year\n",
    "count_1_year[-1]"
   ]
  },
  {
   "cell_type": "code",
   "execution_count": 12,
   "metadata": {},
   "outputs": [
    {
     "data": {
      "text/plain": [
       "year\n",
       "2015    994\n",
       "2016    961\n",
       "2017    986\n",
       "2018    990\n",
       "2019    999\n",
       "2020    852\n",
       "dtype: int64"
      ]
     },
     "execution_count": 12,
     "metadata": {},
     "output_type": "execute_result"
    }
   ],
   "source": [
    "# Number of shootings per year\n",
    "# x-axis: months, y-axis: cummulative number of deaths\n",
    "data.groupby(\"year\").size()"
   ]
  },
  {
   "cell_type": "code",
   "execution_count": 11,
   "metadata": {},
   "outputs": [
    {
     "data": {
      "text/plain": [
       "<matplotlib.axes._subplots.AxesSubplot at 0x2e900312e88>"
      ]
     },
     "execution_count": 11,
     "metadata": {},
     "output_type": "execute_result"
    },
    {
     "data": {
      "image/png": "[encoded data removed]",
      "text/plain": [
       "<Figure size 432x288 with 1 Axes>"
      ]
     },
     "metadata": {
      "needs_background": "light"
     },
     "output_type": "display_data"
    }
   ],
   "source": [
    "sns.barplot(y=data.groupby(\"year\").size(), x=data.groupby(\"year\").size().index)"
   ]
  },
  {
   "cell_type": "code",
   "execution_count": 12,
   "metadata": {},
   "outputs": [
    {
     "data": {
      "text/plain": [
       "<matplotlib.axes._subplots.AxesSubplot at 0x2e90022a988>"
      ]
     },
     "execution_count": 12,
     "metadata": {},
     "output_type": "execute_result"
    },
    {
     "data": {
      "image/png": "[encoded data removed]",
      "text/plain": [
       "<Figure size 432x288 with 1 Axes>"
      ]
     },
     "metadata": {
      "needs_background": "light"
     },
     "output_type": "display_data"
    }
   ],
   "source": [
    "sns.barplot(x=data.gender.value_counts(), y=[\"Male\", \"Female\"])"
   ]
  },
  {
   "cell_type": "code",
   "execution_count": 13,
   "metadata": {},
   "outputs": [
    {
     "data": {
      "text/plain": [
       "<matplotlib.axes._subplots.AxesSubplot at 0x2e9002852c8>"
      ]
     },
     "execution_count": 13,
     "metadata": {},
     "output_type": "execute_result"
    },
    {
     "data": {
      "image/png": "[encoded data removed]",
      "text/plain": [
       "<Figure size 720x360 with 1 Axes>"
      ]
     },
     "metadata": {
      "needs_background": "light"
     },
     "output_type": "display_data"
    }
   ],
   "source": [
    "plt.figure(figsize=(10, 5))\n",
    "\n",
    "sns.distplot(data.age, kde=False, bins=18, hist_kws={\"rwidth\":0.75,'edgecolor':'black', 'alpha':1.0})"
   ]
  },
  {
   "cell_type": "code",
   "execution_count": 14,
   "metadata": {},
   "outputs": [],
   "source": [
    "data_2020 = data[data.year==2020]"
   ]
  },
  {
   "cell_type": "code",
   "execution_count": 15,
   "metadata": {},
   "outputs": [],
   "source": [
    "lockdown = data_2020[data_2020.month<=6]"
   ]
  },
  {
   "cell_type": "code",
   "execution_count": 16,
   "metadata": {},
   "outputs": [
    {
     "data": {
      "text/plain": [
       "524"
      ]
     },
     "execution_count": 16,
     "metadata": {},
     "output_type": "execute_result"
    }
   ],
   "source": [
    "len(lockdown)"
   ]
  },
  {
   "cell_type": "code",
   "execution_count": 17,
   "metadata": {},
   "outputs": [
    {
     "data": {
      "text/plain": [
       "<matplotlib.axes._subplots.AxesSubplot at 0x2e9001dd8c8>"
      ]
     },
     "execution_count": 17,
     "metadata": {},
     "output_type": "execute_result"
    },
    {
     "data": {
      "image/png": "[encoded data removed]",
      "text/plain": [
       "<Figure size 432x288 with 1 Axes>"
      ]
     },
     "metadata": {
      "needs_background": "light"
     },
     "output_type": "display_data"
    }
   ],
   "source": [
    "# Did the rate of killings increase during the pandamic \n",
    "sns.barplot(y=data[data.month<=6].groupby(\"year\").size(), x=data.groupby(\"year\").size().index)"
   ]
  },
  {
   "cell_type": "markdown",
   "metadata": {},
   "source": [
    "``It stayed fairly constant - despite the lockdown``"
   ]
  },
  {
   "cell_type": "code",
   "execution_count": 18,
   "metadata": {},
   "outputs": [
    {
     "data": {
      "image/png": "[encoded data removed]",
      "text/plain": [
       "<Figure size 1080x360 with 1 Axes>"
      ]
     },
     "metadata": {
      "needs_background": "light"
     },
     "output_type": "display_data"
    }
   ],
   "source": [
    "# How did lockdown affect the rate of police killings\n",
    "plt.figure(figsize=(15, 5))\n",
    "sns.barplot(y=lockdown.groupby(\"state\").size(), x=lockdown.groupby(\"state\").size().index)\n",
    "\n",
    "plt.xticks(rotation=45)\n",
    "# It will be useful to know which states went on lockdown\n",
    "\n",
    "plt.show()"
   ]
  },
  {
   "cell_type": "markdown",
   "metadata": {},
   "source": [
    "`??`"
   ]
  },
  {
   "cell_type": "markdown",
   "metadata": {},
   "source": [
    "# How did the death of George Floyd affect the killings"
   ]
  },
  {
   "cell_type": "code",
   "execution_count": 19,
   "metadata": {},
   "outputs": [],
   "source": [
    "after_GF = pd.Series(lockdown.reset_index()[\"date\"].index, lockdown.reset_index()[\"date\"])"
   ]
  },
  {
   "cell_type": "code",
   "execution_count": 20,
   "metadata": {
    "scrolled": true
   },
   "outputs": [
    {
     "data": {
      "text/plain": [
       "date\n",
       "2020-01-01     0\n",
       "2020-01-01     1\n",
       "2020-01-01     2\n",
       "2020-01-01     3\n",
       "2020-01-02     4\n",
       "2020-01-02     5\n",
       "2020-01-02     6\n",
       "2020-01-02     7\n",
       "2020-01-02     8\n",
       "2020-01-02     9\n",
       "2020-01-04    10\n",
       "2020-01-05    11\n",
       "2020-01-05    12\n",
       "2020-01-05    13\n",
       "2020-01-05    14\n",
       "2020-01-05    15\n",
       "2020-01-05    16\n",
       "2020-01-06    17\n",
       "2020-01-06    18\n",
       "2020-01-06    19\n",
       "2020-01-06    20\n",
       "2020-01-06    21\n",
       "2020-01-07    22\n",
       "2020-01-08    23\n",
       "2020-01-08    24\n",
       "2020-01-09    25\n",
       "2020-01-09    26\n",
       "2020-01-09    27\n",
       "2020-01-09    28\n",
       "2020-01-09    29\n",
       "2020-01-10    30\n",
       "2020-01-10    31\n",
       "2020-01-11    32\n",
       "2020-01-11    33\n",
       "2020-01-11    34\n",
       "2020-01-12    35\n",
       "2020-01-12    36\n",
       "2020-01-12    37\n",
       "2020-01-13    38\n",
       "2020-01-13    39\n",
       "2020-01-14    40\n",
       "2020-01-15    41\n",
       "2020-01-15    42\n",
       "2020-01-15    43\n",
       "2020-01-15    44\n",
       "2020-01-15    45\n",
       "2020-01-16    46\n",
       "2020-01-16    47\n",
       "2020-01-16    48\n",
       "2020-01-17    49\n",
       "dtype: int64"
      ]
     },
     "execution_count": 20,
     "metadata": {},
     "output_type": "execute_result"
    }
   ],
   "source": [
    "after_GF.head(50)"
   ]
  },
  {
   "cell_type": "code",
   "execution_count": 21,
   "metadata": {},
   "outputs": [
    {
     "data": {
      "text/plain": [
       "date\n",
       "2020-01-01     1.0\n",
       "2020-01-01     2.0\n",
       "2020-01-01     3.0\n",
       "2020-01-01     4.0\n",
       "2020-01-02     5.0\n",
       "2020-01-02     6.0\n",
       "2020-01-02     7.0\n",
       "2020-01-02     8.0\n",
       "2020-01-02     9.0\n",
       "2020-01-02    10.0\n",
       "2020-01-04     1.0\n",
       "2020-01-05     2.0\n",
       "2020-01-05     3.0\n",
       "2020-01-05     4.0\n",
       "2020-01-05     5.0\n",
       "2020-01-05     6.0\n",
       "2020-01-05     7.0\n",
       "2020-01-06     7.0\n",
       "2020-01-06     8.0\n",
       "2020-01-06     9.0\n",
       "2020-01-06    10.0\n",
       "2020-01-06    11.0\n",
       "2020-01-07     6.0\n",
       "2020-01-08     2.0\n",
       "2020-01-08     3.0\n",
       "2020-01-09     3.0\n",
       "2020-01-09     4.0\n",
       "2020-01-09     5.0\n",
       "2020-01-09     6.0\n",
       "2020-01-09     7.0\n",
       "2020-01-10     6.0\n",
       "2020-01-10     7.0\n",
       "2020-01-11     3.0\n",
       "2020-01-11     4.0\n",
       "2020-01-11     5.0\n",
       "2020-01-12     4.0\n",
       "2020-01-12     5.0\n",
       "2020-01-12     6.0\n",
       "2020-01-13     4.0\n",
       "2020-01-13     5.0\n",
       "2020-01-14     3.0\n",
       "2020-01-15     2.0\n",
       "2020-01-15     3.0\n",
       "2020-01-15     4.0\n",
       "2020-01-15     5.0\n",
       "2020-01-15     6.0\n",
       "2020-01-16     6.0\n",
       "2020-01-16     7.0\n",
       "2020-01-16     8.0\n",
       "2020-01-17     4.0\n",
       "dtype: float64"
      ]
     },
     "execution_count": 21,
     "metadata": {},
     "output_type": "execute_result"
    }
   ],
   "source": [
    "after_GF.rolling(\"2d\").count().head(50)"
   ]
  },
  {
   "cell_type": "code",
   "execution_count": 22,
   "metadata": {},
   "outputs": [],
   "source": [
    "count_1_year = after_GF.rolling(\"7d\").count()"
   ]
  },
  {
   "cell_type": "code",
   "execution_count": 23,
   "metadata": {},
   "outputs": [
    {
     "data": {
      "image/png": "[encoded data removed]",
      "text/plain": [
       "<Figure size 720x432 with 1 Axes>"
      ]
     },
     "metadata": {
      "needs_background": "light"
     },
     "output_type": "display_data"
    }
   ],
   "source": [
    "plt.figure(figsize=(10, 6))\n",
    "\n",
    "plt.plot(count_1_year)\n",
    "plt.title(\"Number of deaths per week\")\n",
    "\n",
    "plt.show()"
   ]
  },
  {
   "cell_type": "code",
   "execution_count": 24,
   "metadata": {},
   "outputs": [],
   "source": [
    "# Check the trend for black people\n",
    "\n",
    "after_GF = pd.Series(lockdown[lockdown.race==\"B\"].reset_index()[\"date\"].index, lockdown[lockdown.race==\"B\"].reset_index()[\"date\"])\n",
    "\n",
    "count_1_year = after_GF.rolling(\"7d\").count()"
   ]
  },
  {
   "cell_type": "code",
   "execution_count": 25,
   "metadata": {},
   "outputs": [
    {
     "data": {
      "image/png": "[encoded data removed]",
      "text/plain": [
       "<Figure size 720x432 with 1 Axes>"
      ]
     },
     "metadata": {
      "needs_background": "light"
     },
     "output_type": "display_data"
    }
   ],
   "source": [
    "plt.figure(figsize=(10, 6))\n",
    "\n",
    "plt.plot(count_1_year)\n",
    "plt.title(\"Number of deaths of black people per week\")\n",
    "\n",
    "plt.show()"
   ]
  },
  {
   "cell_type": "markdown",
   "metadata": {},
   "source": [
    "# In which states are blacks more likely to die"
   ]
  },
  {
   "cell_type": "code",
   "execution_count": 26,
   "metadata": {},
   "outputs": [
    {
     "data": {
      "image/png": "[encoded data removed]",
      "text/plain": [
       "<Figure size 720x360 with 1 Axes>"
      ]
     },
     "metadata": {
      "needs_background": "light"
     },
     "output_type": "display_data"
    }
   ],
   "source": [
    "# How did lockdown affect the rate of police killings\n",
    "plt.figure(figsize=(10, 5))\n",
    "sns.barplot(y=data[data.race==\"B\"].groupby(\"state\").size(), x=data[data.race==\"B\"].groupby(\"state\").size().index)\n",
    "\n",
    "plt.xticks(rotation=45)\n",
    "\n",
    "plt.show()\n",
    "# It will be useful to know which states went on lockdown"
   ]
  },
  {
   "cell_type": "markdown",
   "metadata": {},
   "source": [
    "# Did protests reduce the rate of police killings"
   ]
  },
  {
   "cell_type": "code",
   "execution_count": 27,
   "metadata": {},
   "outputs": [],
   "source": [
    "# Enter code here\n",
    "\n"
   ]
  },
  {
   "cell_type": "code",
   "execution_count": 28,
   "metadata": {},
   "outputs": [
    {
     "data": {
      "text/html": [
       "<div>\n",
       "<style scoped>\n",
       "    .dataframe tbody tr th:only-of-type {\n",
       "        vertical-align: middle;\n",
       "    }\n",
       "\n",
       "    .dataframe tbody tr th {\n",
       "        vertical-align: top;\n",
       "    }\n",
       "\n",
       "    .dataframe thead th {\n",
       "        text-align: right;\n",
       "    }\n",
       "</style>\n",
       "<table border=\"1\" class=\"dataframe\">\n",
       "  <thead>\n",
       "    <tr style=\"text-align: right;\">\n",
       "      <th></th>\n",
       "      <th>date</th>\n",
       "      <th>manner_of_death</th>\n",
       "      <th>armed</th>\n",
       "      <th>age</th>\n",
       "      <th>gender</th>\n",
       "      <th>race</th>\n",
       "      <th>city</th>\n",
       "      <th>state</th>\n",
       "      <th>signs_of_mental_illness</th>\n",
       "      <th>threat_level</th>\n",
       "      <th>flee</th>\n",
       "      <th>body_camera</th>\n",
       "      <th>longitude</th>\n",
       "      <th>latitude</th>\n",
       "      <th>is_geocoding_exact</th>\n",
       "      <th>day</th>\n",
       "      <th>month</th>\n",
       "      <th>year</th>\n",
       "    </tr>\n",
       "    <tr>\n",
       "      <th>name</th>\n",
       "      <th></th>\n",
       "      <th></th>\n",
       "      <th></th>\n",
       "      <th></th>\n",
       "      <th></th>\n",
       "      <th></th>\n",
       "      <th></th>\n",
       "      <th></th>\n",
       "      <th></th>\n",
       "      <th></th>\n",
       "      <th></th>\n",
       "      <th></th>\n",
       "      <th></th>\n",
       "      <th></th>\n",
       "      <th></th>\n",
       "      <th></th>\n",
       "      <th></th>\n",
       "      <th></th>\n",
       "    </tr>\n",
       "  </thead>\n",
       "  <tbody>\n",
       "    <tr>\n",
       "      <th>Derrick A. Elseth</th>\n",
       "      <td>2020-01-01</td>\n",
       "      <td>shot</td>\n",
       "      <td>gun</td>\n",
       "      <td>24.0</td>\n",
       "      <td>M</td>\n",
       "      <td>W</td>\n",
       "      <td>Richmond County</td>\n",
       "      <td>VA</td>\n",
       "      <td>False</td>\n",
       "      <td>other</td>\n",
       "      <td>Not fleeing</td>\n",
       "      <td>False</td>\n",
       "      <td>-76.875</td>\n",
       "      <td>38.100</td>\n",
       "      <td>True</td>\n",
       "      <td>1</td>\n",
       "      <td>1</td>\n",
       "      <td>2020</td>\n",
       "    </tr>\n",
       "    <tr>\n",
       "      <th>Teddy James Maverick Varner</th>\n",
       "      <td>2020-01-01</td>\n",
       "      <td>shot</td>\n",
       "      <td>gun</td>\n",
       "      <td>29.0</td>\n",
       "      <td>M</td>\n",
       "      <td>W</td>\n",
       "      <td>Central Point</td>\n",
       "      <td>OR</td>\n",
       "      <td>True</td>\n",
       "      <td>attack</td>\n",
       "      <td>Not fleeing</td>\n",
       "      <td>True</td>\n",
       "      <td>-122.993</td>\n",
       "      <td>42.418</td>\n",
       "      <td>True</td>\n",
       "      <td>1</td>\n",
       "      <td>1</td>\n",
       "      <td>2020</td>\n",
       "    </tr>\n",
       "    <tr>\n",
       "      <th>Gerardo Antonio Conchas-Bustas</th>\n",
       "      <td>2020-01-01</td>\n",
       "      <td>shot</td>\n",
       "      <td>knife</td>\n",
       "      <td>20.0</td>\n",
       "      <td>M</td>\n",
       "      <td>O</td>\n",
       "      <td>Denver</td>\n",
       "      <td>CO</td>\n",
       "      <td>False</td>\n",
       "      <td>attack</td>\n",
       "      <td>Not fleeing</td>\n",
       "      <td>True</td>\n",
       "      <td>-105.030</td>\n",
       "      <td>39.700</td>\n",
       "      <td>True</td>\n",
       "      <td>1</td>\n",
       "      <td>1</td>\n",
       "      <td>2020</td>\n",
       "    </tr>\n",
       "    <tr>\n",
       "      <th>Gabriel Strickland</th>\n",
       "      <td>2020-01-01</td>\n",
       "      <td>shot and Tasered</td>\n",
       "      <td>toy weapon</td>\n",
       "      <td>25.0</td>\n",
       "      <td>M</td>\n",
       "      <td>W</td>\n",
       "      <td>Grass Valley</td>\n",
       "      <td>CA</td>\n",
       "      <td>True</td>\n",
       "      <td>attack</td>\n",
       "      <td>Not fleeing</td>\n",
       "      <td>False</td>\n",
       "      <td>-121.061</td>\n",
       "      <td>39.219</td>\n",
       "      <td>True</td>\n",
       "      <td>1</td>\n",
       "      <td>1</td>\n",
       "      <td>2020</td>\n",
       "    </tr>\n",
       "    <tr>\n",
       "      <th>Jeffery Dale Millsap</th>\n",
       "      <td>2020-01-02</td>\n",
       "      <td>shot</td>\n",
       "      <td>gun</td>\n",
       "      <td>26.0</td>\n",
       "      <td>M</td>\n",
       "      <td>W</td>\n",
       "      <td>Holt</td>\n",
       "      <td>MO</td>\n",
       "      <td>False</td>\n",
       "      <td>attack</td>\n",
       "      <td>Car</td>\n",
       "      <td>False</td>\n",
       "      <td>-94.345</td>\n",
       "      <td>39.404</td>\n",
       "      <td>True</td>\n",
       "      <td>2</td>\n",
       "      <td>1</td>\n",
       "      <td>2020</td>\n",
       "    </tr>\n",
       "  </tbody>\n",
       "</table>\n",
       "</div>"
      ],
      "text/plain": [
       "                                     date   manner_of_death       armed   age  \\\n",
       "name                                                                            \n",
       "Derrick A. Elseth              2020-01-01              shot         gun  24.0   \n",
       "Teddy James Maverick Varner    2020-01-01              shot         gun  29.0   \n",
       "Gerardo Antonio Conchas-Bustas 2020-01-01              shot       knife  20.0   \n",
       "Gabriel Strickland             2020-01-01  shot and Tasered  toy weapon  25.0   \n",
       "Jeffery Dale Millsap           2020-01-02              shot         gun  26.0   \n",
       "\n",
       "                               gender race             city state  \\\n",
       "name                                                                \n",
       "Derrick A. Elseth                   M    W  Richmond County    VA   \n",
       "Teddy James Maverick Varner         M    W    Central Point    OR   \n",
       "Gerardo Antonio Conchas-Bustas      M    O           Denver    CO   \n",
       "Gabriel Strickland                  M    W     Grass Valley    CA   \n",
       "Jeffery Dale Millsap                M    W             Holt    MO   \n",
       "\n",
       "                                signs_of_mental_illness threat_level  \\\n",
       "name                                                                   \n",
       "Derrick A. Elseth                                 False        other   \n",
       "Teddy James Maverick Varner                        True       attack   \n",
       "Gerardo Antonio Conchas-Bustas                    False       attack   \n",
       "Gabriel Strickland                                 True       attack   \n",
       "Jeffery Dale Millsap                              False       attack   \n",
       "\n",
       "                                       flee  body_camera  longitude  latitude  \\\n",
       "name                                                                            \n",
       "Derrick A. Elseth               Not fleeing        False    -76.875    38.100   \n",
       "Teddy James Maverick Varner     Not fleeing         True   -122.993    42.418   \n",
       "Gerardo Antonio Conchas-Bustas  Not fleeing         True   -105.030    39.700   \n",
       "Gabriel Strickland              Not fleeing        False   -121.061    39.219   \n",
       "Jeffery Dale Millsap                    Car        False    -94.345    39.404   \n",
       "\n",
       "                                is_geocoding_exact  day  month  year  \n",
       "name                                                                  \n",
       "Derrick A. Elseth                             True    1      1  2020  \n",
       "Teddy James Maverick Varner                   True    1      1  2020  \n",
       "Gerardo Antonio Conchas-Bustas                True    1      1  2020  \n",
       "Gabriel Strickland                            True    1      1  2020  \n",
       "Jeffery Dale Millsap                          True    2      1  2020  "
      ]
     },
     "execution_count": 28,
     "metadata": {},
     "output_type": "execute_result"
    }
   ],
   "source": [
    "lockdown.head()"
   ]
  },
  {
   "cell_type": "code",
   "execution_count": 29,
   "metadata": {},
   "outputs": [
    {
     "data": {
      "text/plain": [
       "array(['VA', 'OR', 'CO', 'CA', 'MO', 'NV', 'IL', 'CT', 'AL', 'FL', 'DE',\n",
       "       'TX', 'OK', 'NC', 'AZ', 'NM', 'HI', 'AK', 'NY', 'ND', 'OH', 'PA',\n",
       "       'WA', 'GA', 'IN', 'MT', 'WI', 'AR', 'NJ', 'MD', 'SC', 'KY', 'MS',\n",
       "       'ME', 'UT', 'KS', 'MA', 'MI', 'LA', 'TN', 'NE', 'ID', 'MN', 'IA',\n",
       "       'WV', 'NH', 'SD'], dtype=object)"
      ]
     },
     "execution_count": 29,
     "metadata": {},
     "output_type": "execute_result"
    }
   ],
   "source": [
    "lockdown.state.unique()"
   ]
  },
  {
   "cell_type": "code",
   "execution_count": 30,
   "metadata": {},
   "outputs": [],
   "source": [
    "# Some states showed relatively higher rates of death during the pandemic\n",
    "high_rate_states = data[data.state.isin([\"CO\", \"CT\", \"FL\", \"MT\", \"NV\", \"AK\", \"AL\"])]"
   ]
  },
  {
   "cell_type": "code",
   "execution_count": 31,
   "metadata": {},
   "outputs": [
    {
     "data": {
      "text/plain": [
       "Text(0.5, 1.0, 'The Total Deaths in the First Half of the Year')"
      ]
     },
     "execution_count": 31,
     "metadata": {},
     "output_type": "execute_result"
    },
    {
     "data": {
      "image/png": "[encoded data removed]",
      "text/plain": [
       "<Figure size 432x288 with 1 Axes>"
      ]
     },
     "metadata": {
      "needs_background": "light"
     },
     "output_type": "display_data"
    }
   ],
   "source": [
    "# Did the rate of killings increase during the pandamic \n",
    "sns.barplot(y=high_rate_states[high_rate_states.month<=6].groupby(\"year\").size(), x=high_rate_states.groupby(\"year\").size().index)\n",
    "\n",
    "plt.title(\"The Total Deaths in the First Half of the Year\")"
   ]
  },
  {
   "cell_type": "code",
   "execution_count": 32,
   "metadata": {},
   "outputs": [
    {
     "data": {
      "text/plain": [
       "Text(0.5, 1.0, 'WA')"
      ]
     },
     "execution_count": 32,
     "metadata": {},
     "output_type": "execute_result"
    },
    {
     "data": {
      "image/png": "[encoded data removed]",
      "text/plain": [
       "<Figure size 432x288 with 1 Axes>"
      ]
     },
     "metadata": {
      "needs_background": "light"
     },
     "output_type": "display_data"
    }
   ],
   "source": [
    "WA = data[data.state==\"WA\"]\n",
    "sns.barplot(y=WA[WA.month<=6].groupby(\"year\").size(), x= WA[WA.month<=6].groupby(\"year\").size().index)\n",
    "plt.title(\"WA\")"
   ]
  },
  {
   "cell_type": "code",
   "execution_count": null,
   "metadata": {},
   "outputs": [],
   "source": []
  },
  {
   "cell_type": "code",
   "execution_count": 33,
   "metadata": {},
   "outputs": [
    {
     "ename": "NameError",
     "evalue": "name 'state' is not defined",
     "output_type": "error",
     "traceback": [
      "\u001b[1;31m---------------------------------------------------------------------------\u001b[0m",
      "\u001b[1;31mNameError\u001b[0m                                 Traceback (most recent call last)",
      "\u001b[1;32m<ipython-input-33-bffbc09c22eb>\u001b[0m in \u001b[0;36m<module>\u001b[1;34m\u001b[0m\n\u001b[0;32m      2\u001b[0m     \u001b[0mdata_per_state\u001b[0m \u001b[1;33m=\u001b[0m \u001b[0mdata\u001b[0m\u001b[1;33m[\u001b[0m\u001b[0mdata\u001b[0m\u001b[1;33m.\u001b[0m\u001b[0mstate\u001b[0m\u001b[1;33m==\u001b[0m\u001b[0mstate_i\u001b[0m\u001b[1;33m]\u001b[0m\u001b[1;33m\u001b[0m\u001b[1;33m\u001b[0m\u001b[0m\n\u001b[0;32m      3\u001b[0m     \u001b[0msns\u001b[0m\u001b[1;33m.\u001b[0m\u001b[0mbarplot\u001b[0m\u001b[1;33m(\u001b[0m\u001b[0my\u001b[0m\u001b[1;33m=\u001b[0m\u001b[0mdata_per_state\u001b[0m\u001b[1;33m[\u001b[0m\u001b[0mdata_per_state\u001b[0m\u001b[1;33m.\u001b[0m\u001b[0mmonth\u001b[0m\u001b[1;33m<=\u001b[0m\u001b[1;36m6\u001b[0m\u001b[1;33m]\u001b[0m\u001b[1;33m.\u001b[0m\u001b[0mgroupby\u001b[0m\u001b[1;33m(\u001b[0m\u001b[1;34m\"year\"\u001b[0m\u001b[1;33m)\u001b[0m\u001b[1;33m.\u001b[0m\u001b[0msize\u001b[0m\u001b[1;33m(\u001b[0m\u001b[1;33m)\u001b[0m\u001b[1;33m,\u001b[0m \u001b[0mx\u001b[0m\u001b[1;33m=\u001b[0m \u001b[0mdata_per_state\u001b[0m\u001b[1;33m[\u001b[0m\u001b[0mdata_per_state\u001b[0m\u001b[1;33m.\u001b[0m\u001b[0mmonth\u001b[0m\u001b[1;33m<=\u001b[0m\u001b[1;36m6\u001b[0m\u001b[1;33m]\u001b[0m\u001b[1;33m.\u001b[0m\u001b[0mgroupby\u001b[0m\u001b[1;33m(\u001b[0m\u001b[1;34m\"year\"\u001b[0m\u001b[1;33m)\u001b[0m\u001b[1;33m.\u001b[0m\u001b[0msize\u001b[0m\u001b[1;33m(\u001b[0m\u001b[1;33m)\u001b[0m\u001b[1;33m.\u001b[0m\u001b[0mindex\u001b[0m\u001b[1;33m)\u001b[0m\u001b[1;33m\u001b[0m\u001b[1;33m\u001b[0m\u001b[0m\n\u001b[1;32m----> 4\u001b[1;33m     \u001b[0mplt\u001b[0m\u001b[1;33m.\u001b[0m\u001b[0mtitle\u001b[0m\u001b[1;33m(\u001b[0m\u001b[0mstate\u001b[0m\u001b[1;33m)\u001b[0m\u001b[1;33m\u001b[0m\u001b[1;33m\u001b[0m\u001b[0m\n\u001b[0m",
      "\u001b[1;31mNameError\u001b[0m: name 'state' is not defined"
     ]
    },
    {
     "data": {
      "image/png": "[encoded data removed]",
      "text/plain": [
       "<Figure size 432x288 with 1 Axes>"
      ]
     },
     "metadata": {
      "needs_background": "light"
     },
     "output_type": "display_data"
    }
   ],
   "source": [
    "for state_i in list(data.state):\n",
    "    data_per_state = data[data.state==state_i]\n",
    "    sns.barplot(y=data_per_state[data_per_state.month<=6].groupby(\"year\").size(), x= data_per_state[data_per_state.month<=6].groupby(\"year\").size().index)\n",
    "    plt.title(state)"
   ]
  },
  {
   "cell_type": "code",
   "execution_count": null,
   "metadata": {},
   "outputs": [],
   "source": [
    "list(data.state)"
   ]
  },
  {
   "cell_type": "markdown",
   "metadata": {},
   "source": [
    "# While fatal police shootings remained relatively unchanged during the first six months of 2020,\n",
    "# crime in general fell across major U.S. cities compared to previous years."
   ]
  },
  {
   "cell_type": "code",
   "execution_count": null,
   "metadata": {},
   "outputs": [],
   "source": []
  },
  {
   "cell_type": "code",
   "execution_count": 34,
   "metadata": {},
   "outputs": [],
   "source": [
    "# Find the weekly deaths\n",
    "lockdown = lockdown.assign(week=lockdown.date.dt.week)"
   ]
  },
  {
   "cell_type": "code",
   "execution_count": 35,
   "metadata": {},
   "outputs": [
    {
     "data": {
      "text/plain": [
       "<matplotlib.axes._subplots.AxesSubplot at 0x2e90085b048>"
      ]
     },
     "execution_count": 35,
     "metadata": {},
     "output_type": "execute_result"
    },
    {
     "data": {
      "image/png": "[encoded data removed]",
      "text/plain": [
       "<Figure size 432x288 with 1 Axes>"
      ]
     },
     "metadata": {
      "needs_background": "light"
     },
     "output_type": "display_data"
    }
   ],
   "source": [
    "sns.barplot(y=lockdown.groupby(\"week\").size(), x=lockdown.groupby(\"week\").size().index)"
   ]
  },
  {
   "cell_type": "code",
   "execution_count": 36,
   "metadata": {},
   "outputs": [
    {
     "data": {
      "text/html": [
       "<div>\n",
       "<style scoped>\n",
       "    .dataframe tbody tr th:only-of-type {\n",
       "        vertical-align: middle;\n",
       "    }\n",
       "\n",
       "    .dataframe tbody tr th {\n",
       "        vertical-align: top;\n",
       "    }\n",
       "\n",
       "    .dataframe thead th {\n",
       "        text-align: right;\n",
       "    }\n",
       "</style>\n",
       "<table border=\"1\" class=\"dataframe\">\n",
       "  <thead>\n",
       "    <tr style=\"text-align: right;\">\n",
       "      <th></th>\n",
       "      <th>date</th>\n",
       "      <th>manner_of_death</th>\n",
       "      <th>armed</th>\n",
       "      <th>age</th>\n",
       "      <th>gender</th>\n",
       "      <th>race</th>\n",
       "      <th>city</th>\n",
       "      <th>state</th>\n",
       "      <th>signs_of_mental_illness</th>\n",
       "      <th>threat_level</th>\n",
       "      <th>flee</th>\n",
       "      <th>body_camera</th>\n",
       "      <th>longitude</th>\n",
       "      <th>latitude</th>\n",
       "      <th>is_geocoding_exact</th>\n",
       "      <th>day</th>\n",
       "      <th>month</th>\n",
       "      <th>year</th>\n",
       "      <th>week</th>\n",
       "    </tr>\n",
       "    <tr>\n",
       "      <th>name</th>\n",
       "      <th></th>\n",
       "      <th></th>\n",
       "      <th></th>\n",
       "      <th></th>\n",
       "      <th></th>\n",
       "      <th></th>\n",
       "      <th></th>\n",
       "      <th></th>\n",
       "      <th></th>\n",
       "      <th></th>\n",
       "      <th></th>\n",
       "      <th></th>\n",
       "      <th></th>\n",
       "      <th></th>\n",
       "      <th></th>\n",
       "      <th></th>\n",
       "      <th></th>\n",
       "      <th></th>\n",
       "      <th></th>\n",
       "    </tr>\n",
       "  </thead>\n",
       "  <tbody>\n",
       "    <tr>\n",
       "      <th>Wade Russell Meisberger</th>\n",
       "      <td>2020-06-29</td>\n",
       "      <td>shot</td>\n",
       "      <td>gun</td>\n",
       "      <td>48.0</td>\n",
       "      <td>M</td>\n",
       "      <td>W</td>\n",
       "      <td>Hazleton</td>\n",
       "      <td>PA</td>\n",
       "      <td>False</td>\n",
       "      <td>attack</td>\n",
       "      <td>Car</td>\n",
       "      <td>False</td>\n",
       "      <td>-75.979</td>\n",
       "      <td>40.950</td>\n",
       "      <td>True</td>\n",
       "      <td>29</td>\n",
       "      <td>6</td>\n",
       "      <td>2020</td>\n",
       "      <td>27</td>\n",
       "    </tr>\n",
       "    <tr>\n",
       "      <th>Brittany S. Teichroeb</th>\n",
       "      <td>2020-06-29</td>\n",
       "      <td>shot</td>\n",
       "      <td>gun</td>\n",
       "      <td>26.0</td>\n",
       "      <td>F</td>\n",
       "      <td>W</td>\n",
       "      <td>Midland</td>\n",
       "      <td>TX</td>\n",
       "      <td>False</td>\n",
       "      <td>other</td>\n",
       "      <td>Other</td>\n",
       "      <td>False</td>\n",
       "      <td>-102.161</td>\n",
       "      <td>31.996</td>\n",
       "      <td>True</td>\n",
       "      <td>29</td>\n",
       "      <td>6</td>\n",
       "      <td>2020</td>\n",
       "      <td>27</td>\n",
       "    </tr>\n",
       "    <tr>\n",
       "      <th>Nick Costales</th>\n",
       "      <td>2020-06-29</td>\n",
       "      <td>shot</td>\n",
       "      <td>gun</td>\n",
       "      <td>34.0</td>\n",
       "      <td>M</td>\n",
       "      <td>H</td>\n",
       "      <td>Pomona</td>\n",
       "      <td>CA</td>\n",
       "      <td>True</td>\n",
       "      <td>attack</td>\n",
       "      <td>Car</td>\n",
       "      <td>False</td>\n",
       "      <td>NaN</td>\n",
       "      <td>NaN</td>\n",
       "      <td>True</td>\n",
       "      <td>29</td>\n",
       "      <td>6</td>\n",
       "      <td>2020</td>\n",
       "      <td>27</td>\n",
       "    </tr>\n",
       "    <tr>\n",
       "      <th>Kevin Lee Catlett</th>\n",
       "      <td>2020-06-30</td>\n",
       "      <td>shot</td>\n",
       "      <td>gun</td>\n",
       "      <td>62.0</td>\n",
       "      <td>M</td>\n",
       "      <td>W</td>\n",
       "      <td>Johnson City</td>\n",
       "      <td>TN</td>\n",
       "      <td>False</td>\n",
       "      <td>attack</td>\n",
       "      <td>NaN</td>\n",
       "      <td>False</td>\n",
       "      <td>-82.331</td>\n",
       "      <td>36.353</td>\n",
       "      <td>True</td>\n",
       "      <td>30</td>\n",
       "      <td>6</td>\n",
       "      <td>2020</td>\n",
       "      <td>27</td>\n",
       "    </tr>\n",
       "    <tr>\n",
       "      <th>Lance A. Bowman</th>\n",
       "      <td>2020-06-30</td>\n",
       "      <td>shot</td>\n",
       "      <td>gun</td>\n",
       "      <td>30.0</td>\n",
       "      <td>M</td>\n",
       "      <td>W</td>\n",
       "      <td>Liberty</td>\n",
       "      <td>MO</td>\n",
       "      <td>False</td>\n",
       "      <td>attack</td>\n",
       "      <td>Car</td>\n",
       "      <td>False</td>\n",
       "      <td>-94.418</td>\n",
       "      <td>39.249</td>\n",
       "      <td>True</td>\n",
       "      <td>30</td>\n",
       "      <td>6</td>\n",
       "      <td>2020</td>\n",
       "      <td>27</td>\n",
       "    </tr>\n",
       "  </tbody>\n",
       "</table>\n",
       "</div>"
      ],
      "text/plain": [
       "                              date manner_of_death armed   age gender race  \\\n",
       "name                                                                         \n",
       "Wade Russell Meisberger 2020-06-29            shot   gun  48.0      M    W   \n",
       "Brittany S. Teichroeb   2020-06-29            shot   gun  26.0      F    W   \n",
       "Nick Costales           2020-06-29            shot   gun  34.0      M    H   \n",
       "Kevin Lee Catlett       2020-06-30            shot   gun  62.0      M    W   \n",
       "Lance A. Bowman         2020-06-30            shot   gun  30.0      M    W   \n",
       "\n",
       "                                 city state  signs_of_mental_illness  \\\n",
       "name                                                                   \n",
       "Wade Russell Meisberger      Hazleton    PA                    False   \n",
       "Brittany S. Teichroeb         Midland    TX                    False   \n",
       "Nick Costales                  Pomona    CA                     True   \n",
       "Kevin Lee Catlett        Johnson City    TN                    False   \n",
       "Lance A. Bowman               Liberty    MO                    False   \n",
       "\n",
       "                        threat_level   flee  body_camera  longitude  latitude  \\\n",
       "name                                                                            \n",
       "Wade Russell Meisberger       attack    Car        False    -75.979    40.950   \n",
       "Brittany S. Teichroeb          other  Other        False   -102.161    31.996   \n",
       "Nick Costales                 attack    Car        False        NaN       NaN   \n",
       "Kevin Lee Catlett             attack    NaN        False    -82.331    36.353   \n",
       "Lance A. Bowman               attack    Car        False    -94.418    39.249   \n",
       "\n",
       "                         is_geocoding_exact  day  month  year  week  \n",
       "name                                                                 \n",
       "Wade Russell Meisberger                True   29      6  2020    27  \n",
       "Brittany S. Teichroeb                  True   29      6  2020    27  \n",
       "Nick Costales                          True   29      6  2020    27  \n",
       "Kevin Lee Catlett                      True   30      6  2020    27  \n",
       "Lance A. Bowman                        True   30      6  2020    27  "
      ]
     },
     "execution_count": 36,
     "metadata": {},
     "output_type": "execute_result"
    }
   ],
   "source": [
    "lockdown.tail()"
   ]
  },
  {
   "cell_type": "code",
   "execution_count": 37,
   "metadata": {},
   "outputs": [],
   "source": [
    "data_2020 = data_2020.assign(week=data_2020.date.dt.week)"
   ]
  },
  {
   "cell_type": "code",
   "execution_count": 44,
   "metadata": {},
   "outputs": [
    {
     "data": {
      "image/png": "[encoded data removed]",
      "text/plain": [
       "<Figure size 1080x504 with 1 Axes>"
      ]
     },
     "metadata": {
      "needs_background": "light"
     },
     "output_type": "display_data"
    }
   ],
   "source": [
    "plt.figure(figsize=(15, 7))\n",
    "\n",
    "sns.barplot(y=data_2020.groupby(\"week\").size()[21:], x=index[21:], palette=\"summer\", saturation=.5, errcolor=\".2\", edgecolor=\".2\")\n",
    "\n",
    "plt.xticks(rotation=65)\n",
    "\n",
    "plt.title(\"Number of Weekly Police Deaths following the Death of George Floyd\")\n",
    "plt.ylabel(\"Number of Police Deaths\")\n",
    "plt.xlabel(\"Week\")\n",
    "\n",
    "plt.show()"
   ]
  },
  {
   "cell_type": "code",
   "execution_count": 42,
   "metadata": {},
   "outputs": [],
   "source": [
    "index = data_2020.groupby(\"week\")[\"date\"].min().map(str) + \"-\" + data_2020.groupby(\"week\")[\"date\"].max().map(str)"
   ]
  },
  {
   "cell_type": "code",
   "execution_count": 43,
   "metadata": {},
   "outputs": [],
   "source": [
    "index = [i.replace(\"00:00:00\", \"\") for i in index]\n",
    "\n",
    "index = [i.replace(\"2020-\", \"\") for i in index]"
   ]
  },
  {
   "cell_type": "code",
   "execution_count": null,
   "metadata": {},
   "outputs": [],
   "source": []
  }
 ],
 "metadata": {
  "kernelspec": {
   "display_name": "Python 3",
   "language": "python",
   "name": "python3"
  },
  "language_info": {
   "codemirror_mode": {
    "name": "ipython",
    "version": 3
   },
   "file_extension": ".py",
   "mimetype": "text/x-python",
   "name": "python",
   "nbconvert_exporter": "python",
   "pygments_lexer": "ipython3",
   "version": "3.7.6"
  }
 },
 "nbformat": 4,
 "nbformat_minor": 4
}
