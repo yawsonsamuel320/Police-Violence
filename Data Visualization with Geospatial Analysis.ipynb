{
 "cells": [
  {
   "cell_type": "code",
   "execution_count": 1,
   "metadata": {
    "execution": {
     "iopub.execute_input": "2020-12-01T14:31:08.685689Z",
     "iopub.status.busy": "2020-12-01T14:31:08.680985Z",
     "iopub.status.idle": "2020-12-01T14:31:43.850909Z",
     "shell.execute_reply": "2020-12-01T14:31:43.850364Z"
    },
    "papermill": {
     "duration": 35.233571,
     "end_time": "2020-12-01T14:31:43.851023",
     "exception": false,
     "start_time": "2020-12-01T14:31:08.617452",
     "status": "completed"
    },
    "tags": []
   },
   "outputs": [
    {
     "name": "stdout",
     "output_type": "stream",
     "text": [
      "Requirement already satisfied: wheel in /opt/conda/lib/python3.7/site-packages (0.34.2)\r\n",
      "\u001b[33mWARNING: You are using pip version 20.2.4; however, version 20.3 is available.\r\n",
      "You should consider upgrading via the '/opt/conda/bin/python3.7 -m pip install --upgrade pip' command.\u001b[0m\r\n",
      "Collecting pipwin\r\n",
      "  Downloading pipwin-0.5.0-py2.py3-none-any.whl (7.6 kB)\r\n",
      "Requirement already satisfied: beautifulsoup4>=4.9.0 in /opt/conda/lib/python3.7/site-packages (from pipwin) (4.9.0)\r\n",
      "Requirement already satisfied: six in /opt/conda/lib/python3.7/site-packages (from pipwin) (1.14.0)\r\n",
      "Requirement already satisfied: packaging in /opt/conda/lib/python3.7/site-packages (from pipwin) (20.1)\r\n",
      "Requirement already satisfied: requests in /opt/conda/lib/python3.7/site-packages (from pipwin) (2.23.0)\r\n",
      "Collecting pySmartDL>=1.3.1; python_version >= \"3.4\"\r\n",
      "  Downloading pySmartDL-1.3.4-py3-none-any.whl (20 kB)\r\n",
      "Requirement already satisfied: pyprind in /opt/conda/lib/python3.7/site-packages (from pipwin) (2.11.2)\r\n",
      "Requirement already satisfied: docopt in /opt/conda/lib/python3.7/site-packages (from pipwin) (0.6.2)\r\n",
      "Collecting js2py\r\n",
      "  Downloading Js2Py-0.70-py3-none-any.whl (605 kB)\r\n",
      "\u001b[K     |████████████████████████████████| 605 kB 887 kB/s \r\n",
      "\u001b[?25hRequirement already satisfied: soupsieve>1.2 in /opt/conda/lib/python3.7/site-packages (from beautifulsoup4>=4.9.0->pipwin) (1.9.4)\r\n",
      "Requirement already satisfied: pyparsing>=2.0.2 in /opt/conda/lib/python3.7/site-packages (from packaging->pipwin) (2.4.7)\r\n",
      "Requirement already satisfied: certifi>=2017.4.17 in /opt/conda/lib/python3.7/site-packages (from requests->pipwin) (2020.11.8)\r\n",
      "Requirement already satisfied: idna<3,>=2.5 in /opt/conda/lib/python3.7/site-packages (from requests->pipwin) (2.9)\r\n",
      "Requirement already satisfied: chardet<4,>=3.0.2 in /opt/conda/lib/python3.7/site-packages (from requests->pipwin) (3.0.4)\r\n",
      "Requirement already satisfied: urllib3!=1.25.0,!=1.25.1,<1.26,>=1.21.1 in /opt/conda/lib/python3.7/site-packages (from requests->pipwin) (1.25.9)\r\n",
      "Requirement already satisfied: tzlocal>=1.2 in /opt/conda/lib/python3.7/site-packages (from js2py->pipwin) (2.1)\r\n",
      "Collecting pyjsparser>=2.5.1\r\n",
      "  Downloading pyjsparser-2.7.1.tar.gz (24 kB)\r\n",
      "Requirement already satisfied: pytz in /opt/conda/lib/python3.7/site-packages (from tzlocal>=1.2->js2py->pipwin) (2019.3)\r\n",
      "Building wheels for collected packages: pyjsparser\r\n",
      "  Building wheel for pyjsparser (setup.py) ... \u001b[?25l-\b \b\\\b \bdone\r\n",
      "\u001b[?25h  Created wheel for pyjsparser: filename=pyjsparser-2.7.1-py3-none-any.whl size=25998 sha256=9687545d0cb6f89e54f56389cd35ad8c41f5c143e02c9be480a10acc353d62e3\r\n",
      "  Stored in directory: /root/.cache/pip/wheels/2a/80/ac/dcd2bdbd03dd2b7b7e2bf3e5afbda6a1ab7935bbce314969da\r\n",
      "Successfully built pyjsparser\r\n",
      "Installing collected packages: pySmartDL, pyjsparser, js2py, pipwin\r\n",
      "Successfully installed js2py-0.70 pipwin-0.5.0 pySmartDL-1.3.4 pyjsparser-2.7.1\r\n",
      "\u001b[33mWARNING: You are using pip version 20.2.4; however, version 20.3 is available.\r\n",
      "You should consider upgrading via the '/opt/conda/bin/python3.7 -m pip install --upgrade pip' command.\u001b[0m\r\n",
      "Usage:\r\n",
      "  pipwin install (<package> | [-r=<file> | --file=<file>])\r\n",
      "  pipwin uninstall <package>\r\n",
      "  pipwin download (<package> | [-r=<file> | --file=<file>]) [-d=<dest> | --dest=<dest>]\r\n",
      "  pipwin search <package>\r\n",
      "  pipwin list\r\n",
      "  pipwin refresh [--log=<log>]\r\n",
      "  pipwin (-h | --help)\r\n",
      "  pipwin (-v | --version)\r\n",
      "Usage:\r\n",
      "  pipwin install (<package> | [-r=<file> | --file=<file>])\r\n",
      "  pipwin uninstall <package>\r\n",
      "  pipwin download (<package> | [-r=<file> | --file=<file>]) [-d=<dest> | --dest=<dest>]\r\n",
      "  pipwin search <package>\r\n",
      "  pipwin list\r\n",
      "  pipwin refresh [--log=<log>]\r\n",
      "  pipwin (-h | --help)\r\n",
      "  pipwin (-v | --version)\r\n",
      "Usage:\r\n",
      "  pipwin install (<package> | [-r=<file> | --file=<file>])\r\n",
      "  pipwin uninstall <package>\r\n",
      "  pipwin download (<package> | [-r=<file> | --file=<file>]) [-d=<dest> | --dest=<dest>]\r\n",
      "  pipwin search <package>\r\n",
      "  pipwin list\r\n",
      "  pipwin refresh [--log=<log>]\r\n",
      "  pipwin (-h | --help)\r\n",
      "  pipwin (-v | --version)\r\n",
      "Usage:\r\n",
      "  pipwin install (<package> | [-r=<file> | --file=<file>])\r\n",
      "  pipwin uninstall <package>\r\n",
      "  pipwin download (<package> | [-r=<file> | --file=<file>]) [-d=<dest> | --dest=<dest>]\r\n",
      "  pipwin search <package>\r\n",
      "  pipwin list\r\n",
      "  pipwin refresh [--log=<log>]\r\n",
      "  pipwin (-h | --help)\r\n",
      "  pipwin (-v | --version)\r\n",
      "Usage:\r\n",
      "  pipwin install (<package> | [-r=<file> | --file=<file>])\r\n",
      "  pipwin uninstall <package>\r\n",
      "  pipwin download (<package> | [-r=<file> | --file=<file>]) [-d=<dest> | --dest=<dest>]\r\n",
      "  pipwin search <package>\r\n",
      "  pipwin list\r\n",
      "  pipwin refresh [--log=<log>]\r\n",
      "  pipwin (-h | --help)\r\n",
      "  pipwin (-v | --version)\r\n",
      "Usage:\r\n",
      "  pipwin install (<package> | [-r=<file> | --file=<file>])\r\n",
      "  pipwin uninstall <package>\r\n",
      "  pipwin download (<package> | [-r=<file> | --file=<file>]) [-d=<dest> | --dest=<dest>]\r\n",
      "  pipwin search <package>\r\n",
      "  pipwin list\r\n",
      "  pipwin refresh [--log=<log>]\r\n",
      "  pipwin (-h | --help)\r\n",
      "  pipwin (-v | --version)\r\n",
      "Usage:\r\n",
      "  pipwin install (<package> | [-r=<file> | --file=<file>])\r\n",
      "  pipwin uninstall <package>\r\n",
      "  pipwin download (<package> | [-r=<file> | --file=<file>]) [-d=<dest> | --dest=<dest>]\r\n",
      "  pipwin search <package>\r\n",
      "  pipwin list\r\n",
      "  pipwin refresh [--log=<log>]\r\n",
      "  pipwin (-h | --help)\r\n",
      "  pipwin (-v | --version)\r\n",
      "Usage:\r\n",
      "  pipwin install (<package> | [-r=<file> | --file=<file>])\r\n",
      "  pipwin uninstall <package>\r\n",
      "  pipwin download (<package> | [-r=<file> | --file=<file>]) [-d=<dest> | --dest=<dest>]\r\n",
      "  pipwin search <package>\r\n",
      "  pipwin list\r\n",
      "  pipwin refresh [--log=<log>]\r\n",
      "  pipwin (-h | --help)\r\n",
      "  pipwin (-v | --version)\r\n",
      "Usage:\r\n",
      "  pipwin install (<package> | [-r=<file> | --file=<file>])\r\n",
      "  pipwin uninstall <package>\r\n",
      "  pipwin download (<package> | [-r=<file> | --file=<file>]) [-d=<dest> | --dest=<dest>]\r\n",
      "  pipwin search <package>\r\n",
      "  pipwin list\r\n",
      "  pipwin refresh [--log=<log>]\r\n",
      "  pipwin (-h | --help)\r\n",
      "  pipwin (-v | --version)\r\n"
     ]
    }
   ],
   "source": [
    "!pip install wheel\n",
    "!pip install pipwin\n",
    "\n",
    "!pipwin install numpy --user\n",
    "!pipwin install pandas --user\n",
    "!pipwin install shapely --user\n",
    "!pipwin install gdal --user\n",
    "!pipwin install fiona --user\n",
    "!pipwin install pyproj --user\n",
    "!pipwin install six --user\n",
    "!pipwin install rtree --user\n",
    "!pipwin install geopandas --user"
   ]
  },
  {
   "cell_type": "code",
   "execution_count": 2,
   "metadata": {
    "execution": {
     "iopub.execute_input": "2020-12-01T14:31:43.957824Z",
     "iopub.status.busy": "2020-12-01T14:31:43.957118Z",
     "iopub.status.idle": "2020-12-01T14:31:46.147031Z",
     "shell.execute_reply": "2020-12-01T14:31:46.146289Z"
    },
    "papermill": {
     "duration": 2.245905,
     "end_time": "2020-12-01T14:31:46.147193",
     "exception": false,
     "start_time": "2020-12-01T14:31:43.901288",
     "status": "completed"
    },
    "tags": []
   },
   "outputs": [],
   "source": [
    "# Import the necessary libraries\n",
    "import numpy as np\n",
    "import pandas as pd\n",
    "\n",
    "# For visualisation\n",
    "import matplotlib.pyplot as plt\n",
    "import seaborn as sns\n",
    "import geopandas as gpd\n",
    "\n",
    "# Import datetime\n",
    "import datetime"
   ]
  },
  {
   "cell_type": "code",
   "execution_count": 3,
   "metadata": {
    "execution": {
     "iopub.execute_input": "2020-12-01T14:31:46.328590Z",
     "iopub.status.busy": "2020-12-01T14:31:46.327667Z",
     "iopub.status.idle": "2020-12-01T14:31:47.789168Z",
     "shell.execute_reply": "2020-12-01T14:31:47.788335Z"
    },
    "papermill": {
     "duration": 1.561603,
     "end_time": "2020-12-01T14:31:47.789299",
     "exception": false,
     "start_time": "2020-12-01T14:31:46.227696",
     "status": "completed"
    },
    "tags": []
   },
   "outputs": [],
   "source": [
    "# Read the data file\n",
    "filepath = \"https://github.com/washingtonpost/data-police-shootings/raw/master/fatal-police-shootings-data.csv\"\n",
    "\n",
    "data = pd.read_csv(filepath, index_col=\"name\", parse_dates=[\"date\"], error_bad_lines=False)"
   ]
  },
  {
   "cell_type": "code",
   "execution_count": 4,
   "metadata": {
    "execution": {
     "iopub.execute_input": "2020-12-01T14:31:47.962583Z",
     "iopub.status.busy": "2020-12-01T14:31:47.961895Z",
     "iopub.status.idle": "2020-12-01T14:31:47.980378Z",
     "shell.execute_reply": "2020-12-01T14:31:47.980857Z"
    },
    "papermill": {
     "duration": 0.114248,
     "end_time": "2020-12-01T14:31:47.980990",
     "exception": false,
     "start_time": "2020-12-01T14:31:47.866742",
     "status": "completed"
    },
    "tags": []
   },
   "outputs": [
    {
     "data": {
      "text/html": [
       "<div>\n",
       "<style scoped>\n",
       "    .dataframe tbody tr th:only-of-type {\n",
       "        vertical-align: middle;\n",
       "    }\n",
       "\n",
       "    .dataframe tbody tr th {\n",
       "        vertical-align: top;\n",
       "    }\n",
       "\n",
       "    .dataframe thead th {\n",
       "        text-align: right;\n",
       "    }\n",
       "</style>\n",
       "<table border=\"1\" class=\"dataframe\">\n",
       "  <thead>\n",
       "    <tr style=\"text-align: right;\">\n",
       "      <th></th>\n",
       "      <th>id</th>\n",
       "      <th>date</th>\n",
       "      <th>manner_of_death</th>\n",
       "      <th>armed</th>\n",
       "      <th>age</th>\n",
       "      <th>gender</th>\n",
       "      <th>race</th>\n",
       "      <th>city</th>\n",
       "      <th>state</th>\n",
       "      <th>signs_of_mental_illness</th>\n",
       "      <th>threat_level</th>\n",
       "      <th>flee</th>\n",
       "      <th>body_camera</th>\n",
       "      <th>longitude</th>\n",
       "      <th>latitude</th>\n",
       "      <th>is_geocoding_exact</th>\n",
       "    </tr>\n",
       "    <tr>\n",
       "      <th>name</th>\n",
       "      <th></th>\n",
       "      <th></th>\n",
       "      <th></th>\n",
       "      <th></th>\n",
       "      <th></th>\n",
       "      <th></th>\n",
       "      <th></th>\n",
       "      <th></th>\n",
       "      <th></th>\n",
       "      <th></th>\n",
       "      <th></th>\n",
       "      <th></th>\n",
       "      <th></th>\n",
       "      <th></th>\n",
       "      <th></th>\n",
       "      <th></th>\n",
       "    </tr>\n",
       "  </thead>\n",
       "  <tbody>\n",
       "    <tr>\n",
       "      <th>Tim Elliot</th>\n",
       "      <td>3</td>\n",
       "      <td>2015-01-02</td>\n",
       "      <td>shot</td>\n",
       "      <td>gun</td>\n",
       "      <td>53.0</td>\n",
       "      <td>M</td>\n",
       "      <td>A</td>\n",
       "      <td>Shelton</td>\n",
       "      <td>WA</td>\n",
       "      <td>True</td>\n",
       "      <td>attack</td>\n",
       "      <td>Not fleeing</td>\n",
       "      <td>False</td>\n",
       "      <td>-123.122</td>\n",
       "      <td>47.247</td>\n",
       "      <td>True</td>\n",
       "    </tr>\n",
       "    <tr>\n",
       "      <th>Lewis Lee Lembke</th>\n",
       "      <td>4</td>\n",
       "      <td>2015-01-02</td>\n",
       "      <td>shot</td>\n",
       "      <td>gun</td>\n",
       "      <td>47.0</td>\n",
       "      <td>M</td>\n",
       "      <td>W</td>\n",
       "      <td>Aloha</td>\n",
       "      <td>OR</td>\n",
       "      <td>False</td>\n",
       "      <td>attack</td>\n",
       "      <td>Not fleeing</td>\n",
       "      <td>False</td>\n",
       "      <td>-122.892</td>\n",
       "      <td>45.487</td>\n",
       "      <td>True</td>\n",
       "    </tr>\n",
       "    <tr>\n",
       "      <th>John Paul Quintero</th>\n",
       "      <td>5</td>\n",
       "      <td>2015-01-03</td>\n",
       "      <td>shot and Tasered</td>\n",
       "      <td>unarmed</td>\n",
       "      <td>23.0</td>\n",
       "      <td>M</td>\n",
       "      <td>H</td>\n",
       "      <td>Wichita</td>\n",
       "      <td>KS</td>\n",
       "      <td>False</td>\n",
       "      <td>other</td>\n",
       "      <td>Not fleeing</td>\n",
       "      <td>False</td>\n",
       "      <td>-97.281</td>\n",
       "      <td>37.695</td>\n",
       "      <td>True</td>\n",
       "    </tr>\n",
       "    <tr>\n",
       "      <th>Matthew Hoffman</th>\n",
       "      <td>8</td>\n",
       "      <td>2015-01-04</td>\n",
       "      <td>shot</td>\n",
       "      <td>toy weapon</td>\n",
       "      <td>32.0</td>\n",
       "      <td>M</td>\n",
       "      <td>W</td>\n",
       "      <td>San Francisco</td>\n",
       "      <td>CA</td>\n",
       "      <td>True</td>\n",
       "      <td>attack</td>\n",
       "      <td>Not fleeing</td>\n",
       "      <td>False</td>\n",
       "      <td>-122.422</td>\n",
       "      <td>37.763</td>\n",
       "      <td>True</td>\n",
       "    </tr>\n",
       "    <tr>\n",
       "      <th>Michael Rodriguez</th>\n",
       "      <td>9</td>\n",
       "      <td>2015-01-04</td>\n",
       "      <td>shot</td>\n",
       "      <td>nail gun</td>\n",
       "      <td>39.0</td>\n",
       "      <td>M</td>\n",
       "      <td>H</td>\n",
       "      <td>Evans</td>\n",
       "      <td>CO</td>\n",
       "      <td>False</td>\n",
       "      <td>attack</td>\n",
       "      <td>Not fleeing</td>\n",
       "      <td>False</td>\n",
       "      <td>-104.692</td>\n",
       "      <td>40.384</td>\n",
       "      <td>True</td>\n",
       "    </tr>\n",
       "  </tbody>\n",
       "</table>\n",
       "</div>"
      ],
      "text/plain": [
       "                    id       date   manner_of_death       armed   age gender  \\\n",
       "name                                                                           \n",
       "Tim Elliot           3 2015-01-02              shot         gun  53.0      M   \n",
       "Lewis Lee Lembke     4 2015-01-02              shot         gun  47.0      M   \n",
       "John Paul Quintero   5 2015-01-03  shot and Tasered     unarmed  23.0      M   \n",
       "Matthew Hoffman      8 2015-01-04              shot  toy weapon  32.0      M   \n",
       "Michael Rodriguez    9 2015-01-04              shot    nail gun  39.0      M   \n",
       "\n",
       "                   race           city state  signs_of_mental_illness  \\\n",
       "name                                                                    \n",
       "Tim Elliot            A        Shelton    WA                     True   \n",
       "Lewis Lee Lembke      W          Aloha    OR                    False   \n",
       "John Paul Quintero    H        Wichita    KS                    False   \n",
       "Matthew Hoffman       W  San Francisco    CA                     True   \n",
       "Michael Rodriguez     H          Evans    CO                    False   \n",
       "\n",
       "                   threat_level         flee  body_camera  longitude  \\\n",
       "name                                                                   \n",
       "Tim Elliot               attack  Not fleeing        False   -123.122   \n",
       "Lewis Lee Lembke         attack  Not fleeing        False   -122.892   \n",
       "John Paul Quintero        other  Not fleeing        False    -97.281   \n",
       "Matthew Hoffman          attack  Not fleeing        False   -122.422   \n",
       "Michael Rodriguez        attack  Not fleeing        False   -104.692   \n",
       "\n",
       "                    latitude  is_geocoding_exact  \n",
       "name                                              \n",
       "Tim Elliot            47.247                True  \n",
       "Lewis Lee Lembke      45.487                True  \n",
       "John Paul Quintero    37.695                True  \n",
       "Matthew Hoffman       37.763                True  \n",
       "Michael Rodriguez     40.384                True  "
      ]
     },
     "execution_count": 4,
     "metadata": {},
     "output_type": "execute_result"
    }
   ],
   "source": [
    "# Take a peek at the data\n",
    "data.head()"
   ]
  },
  {
   "cell_type": "code",
   "execution_count": 5,
   "metadata": {
    "execution": {
     "iopub.execute_input": "2020-12-01T14:31:48.089666Z",
     "iopub.status.busy": "2020-12-01T14:31:48.088795Z",
     "iopub.status.idle": "2020-12-01T14:31:48.228467Z",
     "shell.execute_reply": "2020-12-01T14:31:48.227567Z"
    },
    "papermill": {
     "duration": 0.196427,
     "end_time": "2020-12-01T14:31:48.228587",
     "exception": false,
     "start_time": "2020-12-01T14:31:48.032160",
     "status": "completed"
    },
    "tags": []
   },
   "outputs": [
    {
     "name": "stderr",
     "output_type": "stream",
     "text": [
      "/opt/conda/lib/python3.7/site-packages/pyproj/crs/crs.py:53: FutureWarning: '+init=<authority>:<code>' syntax is deprecated. '<authority>:<code>' is the preferred initialization method. When making the change, be mindful of axis order changes: https://pyproj4.github.io/pyproj/stable/gotchas.html#axis-order-changes-in-proj-6\n",
      "  return _prepare_from_string(\" \".join(pjargs))\n"
     ]
    }
   ],
   "source": [
    "# Convert the DataFrame to a GeoDataFrame\n",
    "killings = gpd.GeoDataFrame(data, geometry=gpd.points_from_xy(data.longitude, data.latitude))\n",
    "\n",
    "# Set the coordinate reference system (CRS) to EPSG 4326\n",
    "killings.crs = {'init': 'epsg:4326'}\n"
   ]
  },
  {
   "cell_type": "code",
   "execution_count": 6,
   "metadata": {
    "execution": {
     "iopub.execute_input": "2020-12-01T14:31:48.349717Z",
     "iopub.status.busy": "2020-12-01T14:31:48.348789Z",
     "iopub.status.idle": "2020-12-01T14:31:48.371034Z",
     "shell.execute_reply": "2020-12-01T14:31:48.370211Z"
    },
    "papermill": {
     "duration": 0.0894,
     "end_time": "2020-12-01T14:31:48.371192",
     "exception": false,
     "start_time": "2020-12-01T14:31:48.281792",
     "status": "completed"
    },
    "tags": []
   },
   "outputs": [
    {
     "data": {
      "text/html": [
       "<div>\n",
       "<style scoped>\n",
       "    .dataframe tbody tr th:only-of-type {\n",
       "        vertical-align: middle;\n",
       "    }\n",
       "\n",
       "    .dataframe tbody tr th {\n",
       "        vertical-align: top;\n",
       "    }\n",
       "\n",
       "    .dataframe thead th {\n",
       "        text-align: right;\n",
       "    }\n",
       "</style>\n",
       "<table border=\"1\" class=\"dataframe\">\n",
       "  <thead>\n",
       "    <tr style=\"text-align: right;\">\n",
       "      <th></th>\n",
       "      <th>id</th>\n",
       "      <th>date</th>\n",
       "      <th>manner_of_death</th>\n",
       "      <th>armed</th>\n",
       "      <th>age</th>\n",
       "      <th>gender</th>\n",
       "      <th>race</th>\n",
       "      <th>city</th>\n",
       "      <th>state</th>\n",
       "      <th>signs_of_mental_illness</th>\n",
       "      <th>threat_level</th>\n",
       "      <th>flee</th>\n",
       "      <th>body_camera</th>\n",
       "      <th>longitude</th>\n",
       "      <th>latitude</th>\n",
       "      <th>is_geocoding_exact</th>\n",
       "      <th>geometry</th>\n",
       "    </tr>\n",
       "    <tr>\n",
       "      <th>name</th>\n",
       "      <th></th>\n",
       "      <th></th>\n",
       "      <th></th>\n",
       "      <th></th>\n",
       "      <th></th>\n",
       "      <th></th>\n",
       "      <th></th>\n",
       "      <th></th>\n",
       "      <th></th>\n",
       "      <th></th>\n",
       "      <th></th>\n",
       "      <th></th>\n",
       "      <th></th>\n",
       "      <th></th>\n",
       "      <th></th>\n",
       "      <th></th>\n",
       "      <th></th>\n",
       "    </tr>\n",
       "  </thead>\n",
       "  <tbody>\n",
       "    <tr>\n",
       "      <th>Tim Elliot</th>\n",
       "      <td>3</td>\n",
       "      <td>2015-01-02</td>\n",
       "      <td>shot</td>\n",
       "      <td>gun</td>\n",
       "      <td>53.0</td>\n",
       "      <td>M</td>\n",
       "      <td>A</td>\n",
       "      <td>Shelton</td>\n",
       "      <td>WA</td>\n",
       "      <td>True</td>\n",
       "      <td>attack</td>\n",
       "      <td>Not fleeing</td>\n",
       "      <td>False</td>\n",
       "      <td>-123.122</td>\n",
       "      <td>47.247</td>\n",
       "      <td>True</td>\n",
       "      <td>POINT (-123.12200 47.24700)</td>\n",
       "    </tr>\n",
       "    <tr>\n",
       "      <th>Lewis Lee Lembke</th>\n",
       "      <td>4</td>\n",
       "      <td>2015-01-02</td>\n",
       "      <td>shot</td>\n",
       "      <td>gun</td>\n",
       "      <td>47.0</td>\n",
       "      <td>M</td>\n",
       "      <td>W</td>\n",
       "      <td>Aloha</td>\n",
       "      <td>OR</td>\n",
       "      <td>False</td>\n",
       "      <td>attack</td>\n",
       "      <td>Not fleeing</td>\n",
       "      <td>False</td>\n",
       "      <td>-122.892</td>\n",
       "      <td>45.487</td>\n",
       "      <td>True</td>\n",
       "      <td>POINT (-122.89200 45.48700)</td>\n",
       "    </tr>\n",
       "    <tr>\n",
       "      <th>John Paul Quintero</th>\n",
       "      <td>5</td>\n",
       "      <td>2015-01-03</td>\n",
       "      <td>shot and Tasered</td>\n",
       "      <td>unarmed</td>\n",
       "      <td>23.0</td>\n",
       "      <td>M</td>\n",
       "      <td>H</td>\n",
       "      <td>Wichita</td>\n",
       "      <td>KS</td>\n",
       "      <td>False</td>\n",
       "      <td>other</td>\n",
       "      <td>Not fleeing</td>\n",
       "      <td>False</td>\n",
       "      <td>-97.281</td>\n",
       "      <td>37.695</td>\n",
       "      <td>True</td>\n",
       "      <td>POINT (-97.28100 37.69500)</td>\n",
       "    </tr>\n",
       "    <tr>\n",
       "      <th>Matthew Hoffman</th>\n",
       "      <td>8</td>\n",
       "      <td>2015-01-04</td>\n",
       "      <td>shot</td>\n",
       "      <td>toy weapon</td>\n",
       "      <td>32.0</td>\n",
       "      <td>M</td>\n",
       "      <td>W</td>\n",
       "      <td>San Francisco</td>\n",
       "      <td>CA</td>\n",
       "      <td>True</td>\n",
       "      <td>attack</td>\n",
       "      <td>Not fleeing</td>\n",
       "      <td>False</td>\n",
       "      <td>-122.422</td>\n",
       "      <td>37.763</td>\n",
       "      <td>True</td>\n",
       "      <td>POINT (-122.42200 37.76300)</td>\n",
       "    </tr>\n",
       "    <tr>\n",
       "      <th>Michael Rodriguez</th>\n",
       "      <td>9</td>\n",
       "      <td>2015-01-04</td>\n",
       "      <td>shot</td>\n",
       "      <td>nail gun</td>\n",
       "      <td>39.0</td>\n",
       "      <td>M</td>\n",
       "      <td>H</td>\n",
       "      <td>Evans</td>\n",
       "      <td>CO</td>\n",
       "      <td>False</td>\n",
       "      <td>attack</td>\n",
       "      <td>Not fleeing</td>\n",
       "      <td>False</td>\n",
       "      <td>-104.692</td>\n",
       "      <td>40.384</td>\n",
       "      <td>True</td>\n",
       "      <td>POINT (-104.69200 40.38400)</td>\n",
       "    </tr>\n",
       "  </tbody>\n",
       "</table>\n",
       "</div>"
      ],
      "text/plain": [
       "                    id       date   manner_of_death       armed   age gender  \\\n",
       "name                                                                           \n",
       "Tim Elliot           3 2015-01-02              shot         gun  53.0      M   \n",
       "Lewis Lee Lembke     4 2015-01-02              shot         gun  47.0      M   \n",
       "John Paul Quintero   5 2015-01-03  shot and Tasered     unarmed  23.0      M   \n",
       "Matthew Hoffman      8 2015-01-04              shot  toy weapon  32.0      M   \n",
       "Michael Rodriguez    9 2015-01-04              shot    nail gun  39.0      M   \n",
       "\n",
       "                   race           city state  signs_of_mental_illness  \\\n",
       "name                                                                    \n",
       "Tim Elliot            A        Shelton    WA                     True   \n",
       "Lewis Lee Lembke      W          Aloha    OR                    False   \n",
       "John Paul Quintero    H        Wichita    KS                    False   \n",
       "Matthew Hoffman       W  San Francisco    CA                     True   \n",
       "Michael Rodriguez     H          Evans    CO                    False   \n",
       "\n",
       "                   threat_level         flee  body_camera  longitude  \\\n",
       "name                                                                   \n",
       "Tim Elliot               attack  Not fleeing        False   -123.122   \n",
       "Lewis Lee Lembke         attack  Not fleeing        False   -122.892   \n",
       "John Paul Quintero        other  Not fleeing        False    -97.281   \n",
       "Matthew Hoffman          attack  Not fleeing        False   -122.422   \n",
       "Michael Rodriguez        attack  Not fleeing        False   -104.692   \n",
       "\n",
       "                    latitude  is_geocoding_exact                     geometry  \n",
       "name                                                                           \n",
       "Tim Elliot            47.247                True  POINT (-123.12200 47.24700)  \n",
       "Lewis Lee Lembke      45.487                True  POINT (-122.89200 45.48700)  \n",
       "John Paul Quintero    37.695                True   POINT (-97.28100 37.69500)  \n",
       "Matthew Hoffman       37.763                True  POINT (-122.42200 37.76300)  \n",
       "Michael Rodriguez     40.384                True  POINT (-104.69200 40.38400)  "
      ]
     },
     "execution_count": 6,
     "metadata": {},
     "output_type": "execute_result"
    }
   ],
   "source": [
    "killings.head()"
   ]
  },
  {
   "cell_type": "code",
   "execution_count": 7,
   "metadata": {
    "execution": {
     "iopub.execute_input": "2020-12-01T14:31:48.544208Z",
     "iopub.status.busy": "2020-12-01T14:31:48.536192Z",
     "iopub.status.idle": "2020-12-01T14:31:48.547995Z",
     "shell.execute_reply": "2020-12-01T14:31:48.547353Z"
    },
    "papermill": {
     "duration": 0.097173,
     "end_time": "2020-12-01T14:31:48.548130",
     "exception": false,
     "start_time": "2020-12-01T14:31:48.450957",
     "status": "completed"
    },
    "tags": []
   },
   "outputs": [],
   "source": [
    "# Drop the \"id\" column\n",
    "data.drop(\"id\", axis=1, inplace=True)"
   ]
  },
  {
   "cell_type": "code",
   "execution_count": 8,
   "metadata": {
    "execution": {
     "iopub.execute_input": "2020-12-01T14:31:48.669122Z",
     "iopub.status.busy": "2020-12-01T14:31:48.668139Z",
     "iopub.status.idle": "2020-12-01T14:31:48.684097Z",
     "shell.execute_reply": "2020-12-01T14:31:48.683024Z"
    },
    "papermill": {
     "duration": 0.083714,
     "end_time": "2020-12-01T14:31:48.684274",
     "exception": false,
     "start_time": "2020-12-01T14:31:48.600560",
     "status": "completed"
    },
    "tags": []
   },
   "outputs": [
    {
     "name": "stdout",
     "output_type": "stream",
     "text": [
      "<class 'pandas.core.frame.DataFrame'>\n",
      "Index: 5818 entries, Tim Elliot to Cory Donell Truxillo\n",
      "Data columns (total 16 columns):\n",
      " #   Column                   Non-Null Count  Dtype         \n",
      "---  ------                   --------------  -----         \n",
      " 0   date                     5818 non-null   datetime64[ns]\n",
      " 1   manner_of_death          5818 non-null   object        \n",
      " 2   armed                    5605 non-null   object        \n",
      " 3   age                      5573 non-null   float64       \n",
      " 4   gender                   5817 non-null   object        \n",
      " 5   race                     5284 non-null   object        \n",
      " 6   city                     5818 non-null   object        \n",
      " 7   state                    5818 non-null   object        \n",
      " 8   signs_of_mental_illness  5818 non-null   bool          \n",
      " 9   threat_level             5818 non-null   object        \n",
      " 10  flee                     5503 non-null   object        \n",
      " 11  body_camera              5818 non-null   bool          \n",
      " 12  longitude                5535 non-null   float64       \n",
      " 13  latitude                 5535 non-null   float64       \n",
      " 14  is_geocoding_exact       5818 non-null   bool          \n",
      " 15  geometry                 5818 non-null   geometry      \n",
      "dtypes: bool(3), datetime64[ns](1), float64(3), geometry(1), object(8)\n",
      "memory usage: 653.4+ KB\n"
     ]
    }
   ],
   "source": [
    "# Let's find out what each column is made of\n",
    "data.info()"
   ]
  },
  {
   "cell_type": "code",
   "execution_count": 9,
   "metadata": {
    "execution": {
     "iopub.execute_input": "2020-12-01T14:31:48.850575Z",
     "iopub.status.busy": "2020-12-01T14:31:48.849779Z",
     "iopub.status.idle": "2020-12-01T14:31:48.856918Z",
     "shell.execute_reply": "2020-12-01T14:31:48.856355Z"
    },
    "papermill": {
     "duration": 0.092319,
     "end_time": "2020-12-01T14:31:48.857021",
     "exception": false,
     "start_time": "2020-12-01T14:31:48.764702",
     "status": "completed"
    },
    "tags": []
   },
   "outputs": [],
   "source": [
    "# Find the number of people killed in the past year\n",
    "# Timestamp features\n",
    "data = data.assign(day=data.date.dt.day,\n",
    "                   month=data.date.dt.month,\n",
    "                   year=data.date.dt.year)"
   ]
  },
  {
   "cell_type": "code",
   "execution_count": 10,
   "metadata": {
    "execution": {
     "iopub.execute_input": "2020-12-01T14:31:48.967586Z",
     "iopub.status.busy": "2020-12-01T14:31:48.966951Z",
     "iopub.status.idle": "2020-12-01T14:31:48.972722Z",
     "shell.execute_reply": "2020-12-01T14:31:48.972093Z"
    },
    "papermill": {
     "duration": 0.062084,
     "end_time": "2020-12-01T14:31:48.972826",
     "exception": false,
     "start_time": "2020-12-01T14:31:48.910742",
     "status": "completed"
    },
    "tags": []
   },
   "outputs": [],
   "source": [
    "data_id = data.reset_index()"
   ]
  },
  {
   "cell_type": "code",
   "execution_count": 11,
   "metadata": {
    "execution": {
     "iopub.execute_input": "2020-12-01T14:31:49.091960Z",
     "iopub.status.busy": "2020-12-01T14:31:49.089935Z",
     "iopub.status.idle": "2020-12-01T14:31:49.095655Z",
     "shell.execute_reply": "2020-12-01T14:31:49.096157Z"
    },
    "papermill": {
     "duration": 0.069709,
     "end_time": "2020-12-01T14:31:49.096302",
     "exception": false,
     "start_time": "2020-12-01T14:31:49.026593",
     "status": "completed"
    },
    "tags": []
   },
   "outputs": [
    {
     "data": {
      "text/plain": [
       "date\n",
       "2015-01-02    0\n",
       "2015-01-02    1\n",
       "2015-01-03    2\n",
       "2015-01-04    3\n",
       "2015-01-04    4\n",
       "Name: count_1_year, dtype: int64"
      ]
     },
     "execution_count": 11,
     "metadata": {},
     "output_type": "execute_result"
    }
   ],
   "source": [
    "# First, create a Series with a timestamp index\n",
    "date = pd.Series(data_id .index, index=data_id .date, name=\"count_1_year\").sort_index()\n",
    "date.head()"
   ]
  },
  {
   "cell_type": "code",
   "execution_count": 12,
   "metadata": {
    "execution": {
     "iopub.execute_input": "2020-12-01T14:31:49.214973Z",
     "iopub.status.busy": "2020-12-01T14:31:49.213885Z",
     "iopub.status.idle": "2020-12-01T14:31:49.219698Z",
     "shell.execute_reply": "2020-12-01T14:31:49.218943Z"
    },
    "papermill": {
     "duration": 0.067015,
     "end_time": "2020-12-01T14:31:49.219810",
     "exception": false,
     "start_time": "2020-12-01T14:31:49.152795",
     "status": "completed"
    },
    "tags": []
   },
   "outputs": [],
   "source": [
    "count_1_year = date.rolling(\"366d\").count()"
   ]
  },
  {
   "cell_type": "code",
   "execution_count": 13,
   "metadata": {
    "execution": {
     "iopub.execute_input": "2020-12-01T14:31:49.335084Z",
     "iopub.status.busy": "2020-12-01T14:31:49.334459Z",
     "iopub.status.idle": "2020-12-01T14:31:49.546174Z",
     "shell.execute_reply": "2020-12-01T14:31:49.545525Z"
    },
    "papermill": {
     "duration": 0.272193,
     "end_time": "2020-12-01T14:31:49.546284",
     "exception": false,
     "start_time": "2020-12-01T14:31:49.274091",
     "status": "completed"
    },
    "tags": []
   },
   "outputs": [
    {
     "data": {
      "image/png": "[encoded data removed]",
      "text/plain": [
       "<Figure size 720x432 with 1 Axes>"
      ]
     },
     "metadata": {
      "needs_background": "light"
     },
     "output_type": "display_data"
    }
   ],
   "source": [
    "plt.figure(figsize=(10, 6))\n",
    "\n",
    "plt.plot(count_1_year)\n",
    "plt.title(\"Number of deaths in the past year\")\n",
    "\n",
    "plt.show()"
   ]
  },
  {
   "cell_type": "code",
   "execution_count": 14,
   "metadata": {
    "execution": {
     "iopub.execute_input": "2020-12-01T14:31:49.664567Z",
     "iopub.status.busy": "2020-12-01T14:31:49.663473Z",
     "iopub.status.idle": "2020-12-01T14:31:49.668422Z",
     "shell.execute_reply": "2020-12-01T14:31:49.667913Z"
    },
    "papermill": {
     "duration": 0.066327,
     "end_time": "2020-12-01T14:31:49.668528",
     "exception": false,
     "start_time": "2020-12-01T14:31:49.602201",
     "status": "completed"
    },
    "tags": []
   },
   "outputs": [
    {
     "data": {
      "text/plain": [
       "995.0"
      ]
     },
     "execution_count": 14,
     "metadata": {},
     "output_type": "execute_result"
    }
   ],
   "source": [
    "# Police Deaths in past year\n",
    "count_1_year[-1]"
   ]
  },
  {
   "cell_type": "code",
   "execution_count": 15,
   "metadata": {
    "execution": {
     "iopub.execute_input": "2020-12-01T14:31:49.786959Z",
     "iopub.status.busy": "2020-12-01T14:31:49.786157Z",
     "iopub.status.idle": "2020-12-01T14:31:49.793096Z",
     "shell.execute_reply": "2020-12-01T14:31:49.792536Z"
    },
    "papermill": {
     "duration": 0.068303,
     "end_time": "2020-12-01T14:31:49.793201",
     "exception": false,
     "start_time": "2020-12-01T14:31:49.724898",
     "status": "completed"
    },
    "tags": []
   },
   "outputs": [
    {
     "data": {
      "text/plain": [
       "year\n",
       "2015    994\n",
       "2016    961\n",
       "2017    986\n",
       "2018    990\n",
       "2019    999\n",
       "2020    888\n",
       "dtype: int64"
      ]
     },
     "execution_count": 15,
     "metadata": {},
     "output_type": "execute_result"
    }
   ],
   "source": [
    "# Number of shootings per year\n",
    "# x-axis: months, y-axis: cummulative number of deaths\n",
    "data.groupby(\"year\").size()"
   ]
  },
  {
   "cell_type": "code",
   "execution_count": 16,
   "metadata": {
    "execution": {
     "iopub.execute_input": "2020-12-01T14:31:49.912549Z",
     "iopub.status.busy": "2020-12-01T14:31:49.911801Z",
     "iopub.status.idle": "2020-12-01T14:31:50.123713Z",
     "shell.execute_reply": "2020-12-01T14:31:50.124235Z"
    },
    "papermill": {
     "duration": 0.274694,
     "end_time": "2020-12-01T14:31:50.124375",
     "exception": false,
     "start_time": "2020-12-01T14:31:49.849681",
     "status": "completed"
    },
    "tags": []
   },
   "outputs": [
    {
     "data": {
      "text/plain": [
       "<matplotlib.axes._subplots.AxesSubplot at 0x7f5c104f1ed0>"
      ]
     },
     "execution_count": 16,
     "metadata": {},
     "output_type": "execute_result"
    },
    {
     "data": {
      "image/png": "[encoded data removed]",
      "text/plain": [
       "<Figure size 432x288 with 1 Axes>"
      ]
     },
     "metadata": {
      "needs_background": "light"
     },
     "output_type": "display_data"
    }
   ],
   "source": [
    "sns.barplot(y=data.groupby(\"year\").size(), x=data.groupby(\"year\").size().index)"
   ]
  },
  {
   "cell_type": "code",
   "execution_count": 17,
   "metadata": {
    "execution": {
     "iopub.execute_input": "2020-12-01T14:31:50.255746Z",
     "iopub.status.busy": "2020-12-01T14:31:50.247199Z",
     "iopub.status.idle": "2020-12-01T14:31:50.361713Z",
     "shell.execute_reply": "2020-12-01T14:31:50.361095Z"
    },
    "papermill": {
     "duration": 0.179531,
     "end_time": "2020-12-01T14:31:50.361817",
     "exception": false,
     "start_time": "2020-12-01T14:31:50.182286",
     "status": "completed"
    },
    "tags": []
   },
   "outputs": [
    {
     "data": {
      "text/plain": [
       "<matplotlib.axes._subplots.AxesSubplot at 0x7f5c104af190>"
      ]
     },
     "execution_count": 17,
     "metadata": {},
     "output_type": "execute_result"
    },
    {
     "data": {
      "image/png": "[encoded data removed]",
      "text/plain": [
       "<Figure size 432x288 with 1 Axes>"
      ]
     },
     "metadata": {
      "needs_background": "light"
     },
     "output_type": "display_data"
    }
   ],
   "source": [
    "sns.barplot(x=data.gender.value_counts(), y=[\"Male\", \"Female\"])"
   ]
  },
  {
   "cell_type": "code",
   "execution_count": 18,
   "metadata": {
    "execution": {
     "iopub.execute_input": "2020-12-01T14:31:50.497132Z",
     "iopub.status.busy": "2020-12-01T14:31:50.491920Z",
     "iopub.status.idle": "2020-12-01T14:31:50.660481Z",
     "shell.execute_reply": "2020-12-01T14:31:50.660971Z"
    },
    "papermill": {
     "duration": 0.239274,
     "end_time": "2020-12-01T14:31:50.661130",
     "exception": false,
     "start_time": "2020-12-01T14:31:50.421856",
     "status": "completed"
    },
    "tags": []
   },
   "outputs": [
    {
     "data": {
      "text/plain": [
       "<matplotlib.axes._subplots.AxesSubplot at 0x7f5c104850d0>"
      ]
     },
     "execution_count": 18,
     "metadata": {},
     "output_type": "execute_result"
    },
    {
     "data": {
      "image/png": "[encoded data removed]",
      "text/plain": [
       "<Figure size 720x360 with 1 Axes>"
      ]
     },
     "metadata": {
      "needs_background": "light"
     },
     "output_type": "display_data"
    }
   ],
   "source": [
    "# Visualise age distribution \n",
    "plt.figure(figsize=(10, 5))\n",
    "\n",
    "sns.distplot(data.age, kde=False, bins=18, hist_kws={\"rwidth\":0.75,'edgecolor':'black', 'alpha':1.0})"
   ]
  },
  {
   "cell_type": "code",
   "execution_count": 19,
   "metadata": {
    "execution": {
     "iopub.execute_input": "2020-12-01T14:31:50.786166Z",
     "iopub.status.busy": "2020-12-01T14:31:50.785490Z",
     "iopub.status.idle": "2020-12-01T14:31:50.811616Z",
     "shell.execute_reply": "2020-12-01T14:31:50.812110Z"
    },
    "papermill": {
     "duration": 0.091846,
     "end_time": "2020-12-01T14:31:50.812247",
     "exception": false,
     "start_time": "2020-12-01T14:31:50.720401",
     "status": "completed"
    },
    "tags": []
   },
   "outputs": [],
   "source": [
    "data_2020 = data[data.year==2020]"
   ]
  },
  {
   "cell_type": "code",
   "execution_count": 20,
   "metadata": {
    "execution": {
     "iopub.execute_input": "2020-12-01T14:31:50.940845Z",
     "iopub.status.busy": "2020-12-01T14:31:50.939926Z",
     "iopub.status.idle": "2020-12-01T14:31:50.945924Z",
     "shell.execute_reply": "2020-12-01T14:31:50.945424Z"
    },
    "papermill": {
     "duration": 0.072869,
     "end_time": "2020-12-01T14:31:50.946031",
     "exception": false,
     "start_time": "2020-12-01T14:31:50.873162",
     "status": "completed"
    },
    "tags": []
   },
   "outputs": [],
   "source": [
    "lockdown = data_2020[data_2020.month<=6]"
   ]
  },
  {
   "cell_type": "code",
   "execution_count": 21,
   "metadata": {
    "execution": {
     "iopub.execute_input": "2020-12-01T14:31:51.075939Z",
     "iopub.status.busy": "2020-12-01T14:31:51.075072Z",
     "iopub.status.idle": "2020-12-01T14:31:51.081754Z",
     "shell.execute_reply": "2020-12-01T14:31:51.080889Z"
    },
    "papermill": {
     "duration": 0.074377,
     "end_time": "2020-12-01T14:31:51.081871",
     "exception": false,
     "start_time": "2020-12-01T14:31:51.007494",
     "status": "completed"
    },
    "tags": []
   },
   "outputs": [
    {
     "data": {
      "text/plain": [
       "523"
      ]
     },
     "execution_count": 21,
     "metadata": {},
     "output_type": "execute_result"
    }
   ],
   "source": [
    "len(lockdown)"
   ]
  },
  {
   "cell_type": "code",
   "execution_count": 22,
   "metadata": {
    "execution": {
     "iopub.execute_input": "2020-12-01T14:31:51.213939Z",
     "iopub.status.busy": "2020-12-01T14:31:51.211624Z",
     "iopub.status.idle": "2020-12-01T14:31:51.400697Z",
     "shell.execute_reply": "2020-12-01T14:31:51.400038Z"
    },
    "papermill": {
     "duration": 0.257205,
     "end_time": "2020-12-01T14:31:51.400805",
     "exception": false,
     "start_time": "2020-12-01T14:31:51.143600",
     "status": "completed"
    },
    "tags": []
   },
   "outputs": [
    {
     "data": {
      "text/plain": [
       "<matplotlib.axes._subplots.AxesSubplot at 0x7f5c105ab9d0>"
      ]
     },
     "execution_count": 22,
     "metadata": {},
     "output_type": "execute_result"
    },
    {
     "data": {
      "image/png": "[encoded data removed]",
      "text/plain": [
       "<Figure size 432x288 with 1 Axes>"
      ]
     },
     "metadata": {
      "needs_background": "light"
     },
     "output_type": "display_data"
    }
   ],
   "source": [
    "# Did the rate of killings increase during the pandamic \n",
    "sns.barplot(y=data[data.month<=6].groupby(\"year\").size(), x=data.groupby(\"year\").size().index)"
   ]
  },
  {
   "cell_type": "markdown",
   "metadata": {
    "papermill": {
     "duration": 0.061191,
     "end_time": "2020-12-01T14:31:51.523045",
     "exception": false,
     "start_time": "2020-12-01T14:31:51.461854",
     "status": "completed"
    },
    "tags": []
   },
   "source": [
    "``It stayed fairly constant - despite the lockdown``"
   ]
  },
  {
   "cell_type": "code",
   "execution_count": 23,
   "metadata": {
    "execution": {
     "iopub.execute_input": "2020-12-01T14:31:51.664605Z",
     "iopub.status.busy": "2020-12-01T14:31:51.652461Z",
     "iopub.status.idle": "2020-12-01T14:31:52.149416Z",
     "shell.execute_reply": "2020-12-01T14:31:52.148574Z"
    },
    "papermill": {
     "duration": 0.564913,
     "end_time": "2020-12-01T14:31:52.149547",
     "exception": false,
     "start_time": "2020-12-01T14:31:51.584634",
     "status": "completed"
    },
    "tags": []
   },
   "outputs": [
    {
     "data": {
      "image/png": "[encoded data removed]",
      "text/plain": [
       "<Figure size 1080x360 with 1 Axes>"
      ]
     },
     "metadata": {
      "needs_background": "light"
     },
     "output_type": "display_data"
    }
   ],
   "source": [
    "# How did lockdown affect the rate of police killings\n",
    "plt.figure(figsize=(15, 5))\n",
    "sns.barplot(y=lockdown.groupby(\"state\").size(), x=lockdown.groupby(\"state\").size().index)\n",
    "\n",
    "plt.xticks(rotation=45)\n",
    "# It will be useful to know which states went on lockdown\n",
    "\n",
    "plt.show()"
   ]
  },
  {
   "cell_type": "markdown",
   "metadata": {
    "papermill": {
     "duration": 0.094481,
     "end_time": "2020-12-01T14:31:52.339143",
     "exception": false,
     "start_time": "2020-12-01T14:31:52.244662",
     "status": "completed"
    },
    "tags": []
   },
   "source": [
    "`??`"
   ]
  },
  {
   "cell_type": "markdown",
   "metadata": {
    "papermill": {
     "duration": 0.094078,
     "end_time": "2020-12-01T14:31:52.527643",
     "exception": false,
     "start_time": "2020-12-01T14:31:52.433565",
     "status": "completed"
    },
    "tags": []
   },
   "source": [
    "# How did the death of George Floyd affect the killings"
   ]
  },
  {
   "cell_type": "code",
   "execution_count": 24,
   "metadata": {
    "execution": {
     "iopub.execute_input": "2020-12-01T14:31:52.724026Z",
     "iopub.status.busy": "2020-12-01T14:31:52.722892Z",
     "iopub.status.idle": "2020-12-01T14:31:52.728438Z",
     "shell.execute_reply": "2020-12-01T14:31:52.729006Z"
    },
    "papermill": {
     "duration": 0.107179,
     "end_time": "2020-12-01T14:31:52.729185",
     "exception": false,
     "start_time": "2020-12-01T14:31:52.622006",
     "status": "completed"
    },
    "tags": []
   },
   "outputs": [],
   "source": [
    "after_GF = pd.Series(lockdown.reset_index()[\"date\"].index, lockdown.reset_index()[\"date\"])"
   ]
  },
  {
   "cell_type": "code",
   "execution_count": 25,
   "metadata": {
    "execution": {
     "iopub.execute_input": "2020-12-01T14:31:52.860140Z",
     "iopub.status.busy": "2020-12-01T14:31:52.859284Z",
     "iopub.status.idle": "2020-12-01T14:31:52.864475Z",
     "shell.execute_reply": "2020-12-01T14:31:52.863629Z"
    },
    "papermill": {
     "duration": 0.073187,
     "end_time": "2020-12-01T14:31:52.864607",
     "exception": false,
     "start_time": "2020-12-01T14:31:52.791420",
     "status": "completed"
    },
    "scrolled": true,
    "tags": []
   },
   "outputs": [
    {
     "data": {
      "text/plain": [
       "date\n",
       "2020-01-01    0\n",
       "2020-01-01    1\n",
       "2020-01-01    2\n",
       "2020-01-01    3\n",
       "2020-01-02    4\n",
       "dtype: int64"
      ]
     },
     "execution_count": 25,
     "metadata": {},
     "output_type": "execute_result"
    }
   ],
   "source": [
    "after_GF.head()"
   ]
  },
  {
   "cell_type": "code",
   "execution_count": 26,
   "metadata": {
    "execution": {
     "iopub.execute_input": "2020-12-01T14:31:53.064202Z",
     "iopub.status.busy": "2020-12-01T14:31:53.063344Z",
     "iopub.status.idle": "2020-12-01T14:31:53.071342Z",
     "shell.execute_reply": "2020-12-01T14:31:53.070684Z"
    },
    "papermill": {
     "duration": 0.110565,
     "end_time": "2020-12-01T14:31:53.071463",
     "exception": false,
     "start_time": "2020-12-01T14:31:52.960898",
     "status": "completed"
    },
    "tags": []
   },
   "outputs": [
    {
     "data": {
      "text/plain": [
       "date\n",
       "2020-01-01    1.0\n",
       "2020-01-01    2.0\n",
       "2020-01-01    3.0\n",
       "2020-01-01    4.0\n",
       "2020-01-02    5.0\n",
       "dtype: float64"
      ]
     },
     "execution_count": 26,
     "metadata": {},
     "output_type": "execute_result"
    }
   ],
   "source": [
    "after_GF.rolling(\"2d\").count().head()"
   ]
  },
  {
   "cell_type": "code",
   "execution_count": 27,
   "metadata": {
    "execution": {
     "iopub.execute_input": "2020-12-01T14:31:53.206870Z",
     "iopub.status.busy": "2020-12-01T14:31:53.206209Z",
     "iopub.status.idle": "2020-12-01T14:31:53.211394Z",
     "shell.execute_reply": "2020-12-01T14:31:53.210772Z"
    },
    "papermill": {
     "duration": 0.074709,
     "end_time": "2020-12-01T14:31:53.211508",
     "exception": false,
     "start_time": "2020-12-01T14:31:53.136799",
     "status": "completed"
    },
    "tags": []
   },
   "outputs": [],
   "source": [
    "count_1_year = after_GF.rolling(\"7d\").count()"
   ]
  },
  {
   "cell_type": "code",
   "execution_count": 28,
   "metadata": {
    "execution": {
     "iopub.execute_input": "2020-12-01T14:31:53.356492Z",
     "iopub.status.busy": "2020-12-01T14:31:53.351174Z",
     "iopub.status.idle": "2020-12-01T14:31:53.512567Z",
     "shell.execute_reply": "2020-12-01T14:31:53.511916Z"
    },
    "papermill": {
     "duration": 0.232712,
     "end_time": "2020-12-01T14:31:53.512672",
     "exception": false,
     "start_time": "2020-12-01T14:31:53.279960",
     "status": "completed"
    },
    "tags": []
   },
   "outputs": [
    {
     "data": {
      "image/png": "[encoded data removed]",
      "text/plain": [
       "<Figure size 720x432 with 1 Axes>"
      ]
     },
     "metadata": {
      "needs_background": "light"
     },
     "output_type": "display_data"
    }
   ],
   "source": [
    "plt.figure(figsize=(10, 6))\n",
    "\n",
    "plt.plot(count_1_year)\n",
    "plt.title(\"Number of deaths per week\")\n",
    "\n",
    "plt.show()"
   ]
  },
  {
   "cell_type": "code",
   "execution_count": 29,
   "metadata": {
    "execution": {
     "iopub.execute_input": "2020-12-01T14:31:53.660493Z",
     "iopub.status.busy": "2020-12-01T14:31:53.655131Z",
     "iopub.status.idle": "2020-12-01T14:31:53.664131Z",
     "shell.execute_reply": "2020-12-01T14:31:53.664605Z"
    },
    "papermill": {
     "duration": 0.087278,
     "end_time": "2020-12-01T14:31:53.664739",
     "exception": false,
     "start_time": "2020-12-01T14:31:53.577461",
     "status": "completed"
    },
    "tags": []
   },
   "outputs": [],
   "source": [
    "# Check the trend for black people\n",
    "\n",
    "after_GF = pd.Series(lockdown[lockdown.race==\"B\"].reset_index()[\"date\"].index, lockdown[lockdown.race==\"B\"].reset_index()[\"date\"])\n",
    "\n",
    "count_1_year = after_GF.rolling(\"7d\").count()"
   ]
  },
  {
   "cell_type": "code",
   "execution_count": 30,
   "metadata": {
    "execution": {
     "iopub.execute_input": "2020-12-01T14:31:53.807950Z",
     "iopub.status.busy": "2020-12-01T14:31:53.807028Z",
     "iopub.status.idle": "2020-12-01T14:31:53.962540Z",
     "shell.execute_reply": "2020-12-01T14:31:53.963198Z"
    },
    "papermill": {
     "duration": 0.232541,
     "end_time": "2020-12-01T14:31:53.963365",
     "exception": false,
     "start_time": "2020-12-01T14:31:53.730824",
     "status": "completed"
    },
    "tags": []
   },
   "outputs": [
    {
     "data": {
      "image/png": "[encoded data removed]",
      "text/plain": [
       "<Figure size 720x432 with 1 Axes>"
      ]
     },
     "metadata": {
      "needs_background": "light"
     },
     "output_type": "display_data"
    }
   ],
   "source": [
    "plt.figure(figsize=(10, 6))\n",
    "\n",
    "plt.plot(count_1_year)\n",
    "plt.title(\"Number of deaths of black people per week\")\n",
    "\n",
    "plt.show()"
   ]
  },
  {
   "cell_type": "markdown",
   "metadata": {
    "papermill": {
     "duration": 0.099699,
     "end_time": "2020-12-01T14:31:54.162233",
     "exception": false,
     "start_time": "2020-12-01T14:31:54.062534",
     "status": "completed"
    },
    "tags": []
   },
   "source": [
    "# In which states are blacks more likely to die"
   ]
  },
  {
   "cell_type": "code",
   "execution_count": 31,
   "metadata": {
    "execution": {
     "iopub.execute_input": "2020-12-01T14:31:54.373952Z",
     "iopub.status.busy": "2020-12-01T14:31:54.372502Z",
     "iopub.status.idle": "2020-12-01T14:31:54.840728Z",
     "shell.execute_reply": "2020-12-01T14:31:54.839900Z"
    },
    "papermill": {
     "duration": 0.578444,
     "end_time": "2020-12-01T14:31:54.840855",
     "exception": false,
     "start_time": "2020-12-01T14:31:54.262411",
     "status": "completed"
    },
    "tags": []
   },
   "outputs": [
    {
     "data": {
      "image/png": "[encoded data removed]",
      "text/plain": [
       "<Figure size 720x360 with 1 Axes>"
      ]
     },
     "metadata": {
      "needs_background": "light"
     },
     "output_type": "display_data"
    }
   ],
   "source": [
    "# How did lockdown affect the rate of police killings\n",
    "plt.figure(figsize=(10, 5))\n",
    "sns.barplot(y=data[data.race==\"B\"].groupby(\"state\").size(), x=data[data.race==\"B\"].groupby(\"state\").size().index)\n",
    "\n",
    "plt.xticks(rotation=45)\n",
    "\n",
    "plt.show()\n",
    "# It will be useful to know which states went on lockdown"
   ]
  },
  {
   "cell_type": "markdown",
   "metadata": {
    "papermill": {
     "duration": 0.161166,
     "end_time": "2020-12-01T14:31:55.103738",
     "exception": false,
     "start_time": "2020-12-01T14:31:54.942572",
     "status": "completed"
    },
    "tags": []
   },
   "source": [
    "# Did protests reduce the rate of police killings"
   ]
  },
  {
   "cell_type": "code",
   "execution_count": 32,
   "metadata": {
    "execution": {
     "iopub.execute_input": "2020-12-01T14:31:55.346895Z",
     "iopub.status.busy": "2020-12-01T14:31:55.345911Z",
     "iopub.status.idle": "2020-12-01T14:31:55.350380Z",
     "shell.execute_reply": "2020-12-01T14:31:55.349560Z"
    },
    "papermill": {
     "duration": 0.125974,
     "end_time": "2020-12-01T14:31:55.350500",
     "exception": false,
     "start_time": "2020-12-01T14:31:55.224526",
     "status": "completed"
    },
    "tags": []
   },
   "outputs": [],
   "source": [
    "# Enter code here\n",
    "\n"
   ]
  },
  {
   "cell_type": "code",
   "execution_count": 33,
   "metadata": {
    "execution": {
     "iopub.execute_input": "2020-12-01T14:31:55.567848Z",
     "iopub.status.busy": "2020-12-01T14:31:55.567231Z",
     "iopub.status.idle": "2020-12-01T14:31:55.586420Z",
     "shell.execute_reply": "2020-12-01T14:31:55.585581Z"
    },
    "papermill": {
     "duration": 0.132893,
     "end_time": "2020-12-01T14:31:55.586549",
     "exception": false,
     "start_time": "2020-12-01T14:31:55.453656",
     "status": "completed"
    },
    "tags": []
   },
   "outputs": [
    {
     "data": {
      "text/html": [
       "<div>\n",
       "<style scoped>\n",
       "    .dataframe tbody tr th:only-of-type {\n",
       "        vertical-align: middle;\n",
       "    }\n",
       "\n",
       "    .dataframe tbody tr th {\n",
       "        vertical-align: top;\n",
       "    }\n",
       "\n",
       "    .dataframe thead th {\n",
       "        text-align: right;\n",
       "    }\n",
       "</style>\n",
       "<table border=\"1\" class=\"dataframe\">\n",
       "  <thead>\n",
       "    <tr style=\"text-align: right;\">\n",
       "      <th></th>\n",
       "      <th>date</th>\n",
       "      <th>manner_of_death</th>\n",
       "      <th>armed</th>\n",
       "      <th>age</th>\n",
       "      <th>gender</th>\n",
       "      <th>race</th>\n",
       "      <th>city</th>\n",
       "      <th>state</th>\n",
       "      <th>signs_of_mental_illness</th>\n",
       "      <th>threat_level</th>\n",
       "      <th>flee</th>\n",
       "      <th>body_camera</th>\n",
       "      <th>longitude</th>\n",
       "      <th>latitude</th>\n",
       "      <th>is_geocoding_exact</th>\n",
       "      <th>geometry</th>\n",
       "      <th>day</th>\n",
       "      <th>month</th>\n",
       "      <th>year</th>\n",
       "    </tr>\n",
       "    <tr>\n",
       "      <th>name</th>\n",
       "      <th></th>\n",
       "      <th></th>\n",
       "      <th></th>\n",
       "      <th></th>\n",
       "      <th></th>\n",
       "      <th></th>\n",
       "      <th></th>\n",
       "      <th></th>\n",
       "      <th></th>\n",
       "      <th></th>\n",
       "      <th></th>\n",
       "      <th></th>\n",
       "      <th></th>\n",
       "      <th></th>\n",
       "      <th></th>\n",
       "      <th></th>\n",
       "      <th></th>\n",
       "      <th></th>\n",
       "      <th></th>\n",
       "    </tr>\n",
       "  </thead>\n",
       "  <tbody>\n",
       "    <tr>\n",
       "      <th>Derrick A. Elseth</th>\n",
       "      <td>2020-01-01</td>\n",
       "      <td>shot</td>\n",
       "      <td>gun</td>\n",
       "      <td>24.0</td>\n",
       "      <td>M</td>\n",
       "      <td>W</td>\n",
       "      <td>Richmond County</td>\n",
       "      <td>VA</td>\n",
       "      <td>False</td>\n",
       "      <td>other</td>\n",
       "      <td>Not fleeing</td>\n",
       "      <td>False</td>\n",
       "      <td>-76.875</td>\n",
       "      <td>38.100</td>\n",
       "      <td>True</td>\n",
       "      <td>POINT (-76.87500 38.10000)</td>\n",
       "      <td>1</td>\n",
       "      <td>1</td>\n",
       "      <td>2020</td>\n",
       "    </tr>\n",
       "    <tr>\n",
       "      <th>Teddy James Maverick Varner</th>\n",
       "      <td>2020-01-01</td>\n",
       "      <td>shot</td>\n",
       "      <td>gun</td>\n",
       "      <td>29.0</td>\n",
       "      <td>M</td>\n",
       "      <td>W</td>\n",
       "      <td>Central Point</td>\n",
       "      <td>OR</td>\n",
       "      <td>True</td>\n",
       "      <td>attack</td>\n",
       "      <td>Not fleeing</td>\n",
       "      <td>True</td>\n",
       "      <td>-122.993</td>\n",
       "      <td>42.418</td>\n",
       "      <td>True</td>\n",
       "      <td>POINT (-122.99300 42.41800)</td>\n",
       "      <td>1</td>\n",
       "      <td>1</td>\n",
       "      <td>2020</td>\n",
       "    </tr>\n",
       "    <tr>\n",
       "      <th>Gerardo Antonio Conchas-Bustas</th>\n",
       "      <td>2020-01-01</td>\n",
       "      <td>shot</td>\n",
       "      <td>knife</td>\n",
       "      <td>20.0</td>\n",
       "      <td>M</td>\n",
       "      <td>O</td>\n",
       "      <td>Denver</td>\n",
       "      <td>CO</td>\n",
       "      <td>False</td>\n",
       "      <td>attack</td>\n",
       "      <td>Not fleeing</td>\n",
       "      <td>True</td>\n",
       "      <td>-105.030</td>\n",
       "      <td>39.700</td>\n",
       "      <td>True</td>\n",
       "      <td>POINT (-105.03000 39.70000)</td>\n",
       "      <td>1</td>\n",
       "      <td>1</td>\n",
       "      <td>2020</td>\n",
       "    </tr>\n",
       "    <tr>\n",
       "      <th>Gabriel Strickland</th>\n",
       "      <td>2020-01-01</td>\n",
       "      <td>shot and Tasered</td>\n",
       "      <td>toy weapon</td>\n",
       "      <td>25.0</td>\n",
       "      <td>M</td>\n",
       "      <td>W</td>\n",
       "      <td>Grass Valley</td>\n",
       "      <td>CA</td>\n",
       "      <td>True</td>\n",
       "      <td>attack</td>\n",
       "      <td>Not fleeing</td>\n",
       "      <td>False</td>\n",
       "      <td>-121.061</td>\n",
       "      <td>39.219</td>\n",
       "      <td>True</td>\n",
       "      <td>POINT (-121.06100 39.21900)</td>\n",
       "      <td>1</td>\n",
       "      <td>1</td>\n",
       "      <td>2020</td>\n",
       "    </tr>\n",
       "    <tr>\n",
       "      <th>Jeffery Dale Millsap</th>\n",
       "      <td>2020-01-02</td>\n",
       "      <td>shot</td>\n",
       "      <td>gun</td>\n",
       "      <td>26.0</td>\n",
       "      <td>M</td>\n",
       "      <td>W</td>\n",
       "      <td>Holt</td>\n",
       "      <td>MO</td>\n",
       "      <td>False</td>\n",
       "      <td>attack</td>\n",
       "      <td>Car</td>\n",
       "      <td>False</td>\n",
       "      <td>-94.345</td>\n",
       "      <td>39.404</td>\n",
       "      <td>True</td>\n",
       "      <td>POINT (-94.34500 39.40400)</td>\n",
       "      <td>2</td>\n",
       "      <td>1</td>\n",
       "      <td>2020</td>\n",
       "    </tr>\n",
       "  </tbody>\n",
       "</table>\n",
       "</div>"
      ],
      "text/plain": [
       "                                     date   manner_of_death       armed   age  \\\n",
       "name                                                                            \n",
       "Derrick A. Elseth              2020-01-01              shot         gun  24.0   \n",
       "Teddy James Maverick Varner    2020-01-01              shot         gun  29.0   \n",
       "Gerardo Antonio Conchas-Bustas 2020-01-01              shot       knife  20.0   \n",
       "Gabriel Strickland             2020-01-01  shot and Tasered  toy weapon  25.0   \n",
       "Jeffery Dale Millsap           2020-01-02              shot         gun  26.0   \n",
       "\n",
       "                               gender race             city state  \\\n",
       "name                                                                \n",
       "Derrick A. Elseth                   M    W  Richmond County    VA   \n",
       "Teddy James Maverick Varner         M    W    Central Point    OR   \n",
       "Gerardo Antonio Conchas-Bustas      M    O           Denver    CO   \n",
       "Gabriel Strickland                  M    W     Grass Valley    CA   \n",
       "Jeffery Dale Millsap                M    W             Holt    MO   \n",
       "\n",
       "                                signs_of_mental_illness threat_level  \\\n",
       "name                                                                   \n",
       "Derrick A. Elseth                                 False        other   \n",
       "Teddy James Maverick Varner                        True       attack   \n",
       "Gerardo Antonio Conchas-Bustas                    False       attack   \n",
       "Gabriel Strickland                                 True       attack   \n",
       "Jeffery Dale Millsap                              False       attack   \n",
       "\n",
       "                                       flee  body_camera  longitude  latitude  \\\n",
       "name                                                                            \n",
       "Derrick A. Elseth               Not fleeing        False    -76.875    38.100   \n",
       "Teddy James Maverick Varner     Not fleeing         True   -122.993    42.418   \n",
       "Gerardo Antonio Conchas-Bustas  Not fleeing         True   -105.030    39.700   \n",
       "Gabriel Strickland              Not fleeing        False   -121.061    39.219   \n",
       "Jeffery Dale Millsap                    Car        False    -94.345    39.404   \n",
       "\n",
       "                                is_geocoding_exact  \\\n",
       "name                                                 \n",
       "Derrick A. Elseth                             True   \n",
       "Teddy James Maverick Varner                   True   \n",
       "Gerardo Antonio Conchas-Bustas                True   \n",
       "Gabriel Strickland                            True   \n",
       "Jeffery Dale Millsap                          True   \n",
       "\n",
       "                                                   geometry  day  month  year  \n",
       "name                                                                           \n",
       "Derrick A. Elseth                POINT (-76.87500 38.10000)    1      1  2020  \n",
       "Teddy James Maverick Varner     POINT (-122.99300 42.41800)    1      1  2020  \n",
       "Gerardo Antonio Conchas-Bustas  POINT (-105.03000 39.70000)    1      1  2020  \n",
       "Gabriel Strickland              POINT (-121.06100 39.21900)    1      1  2020  \n",
       "Jeffery Dale Millsap             POINT (-94.34500 39.40400)    2      1  2020  "
      ]
     },
     "execution_count": 33,
     "metadata": {},
     "output_type": "execute_result"
    }
   ],
   "source": [
    "lockdown.head()"
   ]
  },
  {
   "cell_type": "code",
   "execution_count": 34,
   "metadata": {
    "execution": {
     "iopub.execute_input": "2020-12-01T14:31:55.796594Z",
     "iopub.status.busy": "2020-12-01T14:31:55.795787Z",
     "iopub.status.idle": "2020-12-01T14:31:55.801530Z",
     "shell.execute_reply": "2020-12-01T14:31:55.800924Z"
    },
    "papermill": {
     "duration": 0.112074,
     "end_time": "2020-12-01T14:31:55.801635",
     "exception": false,
     "start_time": "2020-12-01T14:31:55.689561",
     "status": "completed"
    },
    "tags": []
   },
   "outputs": [
    {
     "data": {
      "text/plain": [
       "array(['VA', 'OR', 'CO', 'CA', 'MO', 'NV', 'IL', 'CT', 'AL', 'FL', 'DE',\n",
       "       'TX', 'OK', 'NC', 'AZ', 'NM', 'HI', 'AK', 'NY', 'ND', 'OH', 'PA',\n",
       "       'WA', 'GA', 'IN', 'MT', 'WI', 'AR', 'NJ', 'MD', 'SC', 'KY', 'MS',\n",
       "       'ME', 'UT', 'KS', 'MA', 'MI', 'LA', 'TN', 'NE', 'ID', 'MN', 'IA',\n",
       "       'WV', 'NH', 'SD'], dtype=object)"
      ]
     },
     "execution_count": 34,
     "metadata": {},
     "output_type": "execute_result"
    }
   ],
   "source": [
    "lockdown.state.unique()"
   ]
  },
  {
   "cell_type": "code",
   "execution_count": 35,
   "metadata": {
    "execution": {
     "iopub.execute_input": "2020-12-01T14:31:55.948777Z",
     "iopub.status.busy": "2020-12-01T14:31:55.947957Z",
     "iopub.status.idle": "2020-12-01T14:31:55.951635Z",
     "shell.execute_reply": "2020-12-01T14:31:55.950975Z"
    },
    "papermill": {
     "duration": 0.081914,
     "end_time": "2020-12-01T14:31:55.951754",
     "exception": false,
     "start_time": "2020-12-01T14:31:55.869840",
     "status": "completed"
    },
    "tags": []
   },
   "outputs": [],
   "source": [
    "# Some states showed relatively higher rates of death during the pandemic\n",
    "high_rate_states = data[data.state.isin([\"CO\", \"CT\", \"FL\", \"MT\", \"NV\", \"AK\", \"AL\"])]"
   ]
  },
  {
   "cell_type": "code",
   "execution_count": 36,
   "metadata": {
    "execution": {
     "iopub.execute_input": "2020-12-01T14:31:56.112855Z",
     "iopub.status.busy": "2020-12-01T14:31:56.103264Z",
     "iopub.status.idle": "2020-12-01T14:31:56.294079Z",
     "shell.execute_reply": "2020-12-01T14:31:56.294554Z"
    },
    "papermill": {
     "duration": 0.270923,
     "end_time": "2020-12-01T14:31:56.294697",
     "exception": false,
     "start_time": "2020-12-01T14:31:56.023774",
     "status": "completed"
    },
    "tags": []
   },
   "outputs": [
    {
     "data": {
      "text/plain": [
       "Text(0.5, 1.0, 'The Total Deaths in the First Half of the Year')"
      ]
     },
     "execution_count": 36,
     "metadata": {},
     "output_type": "execute_result"
    },
    {
     "data": {
      "image/png": "[encoded data removed]",
      "text/plain": [
       "<Figure size 432x288 with 1 Axes>"
      ]
     },
     "metadata": {
      "needs_background": "light"
     },
     "output_type": "display_data"
    }
   ],
   "source": [
    "# Did the rate of killings increase during the pandamic \n",
    "sns.barplot(y=high_rate_states[high_rate_states.month<=6].groupby(\"year\").size(), x=high_rate_states.groupby(\"year\").size().index)\n",
    "\n",
    "plt.title(\"The Total Deaths in the First Half of the Year\")"
   ]
  },
  {
   "cell_type": "code",
   "execution_count": 37,
   "metadata": {
    "execution": {
     "iopub.execute_input": "2020-12-01T14:31:56.610107Z",
     "iopub.status.busy": "2020-12-01T14:31:56.457775Z",
     "iopub.status.idle": "2020-12-01T14:31:56.791152Z",
     "shell.execute_reply": "2020-12-01T14:31:56.790584Z"
    },
    "papermill": {
     "duration": 0.425018,
     "end_time": "2020-12-01T14:31:56.791257",
     "exception": false,
     "start_time": "2020-12-01T14:31:56.366239",
     "status": "completed"
    },
    "tags": []
   },
   "outputs": [
    {
     "data": {
      "text/plain": [
       "Text(0.5, 1.0, 'WA')"
      ]
     },
     "execution_count": 37,
     "metadata": {},
     "output_type": "execute_result"
    },
    {
     "data": {
      "image/png": "[encoded data removed]",
      "text/plain": [
       "<Figure size 432x288 with 1 Axes>"
      ]
     },
     "metadata": {
      "needs_background": "light"
     },
     "output_type": "display_data"
    }
   ],
   "source": [
    "WA = data[data.state==\"WA\"]\n",
    "sns.barplot(y=WA[WA.month<=6].groupby(\"year\").size(), x= WA[WA.month<=6].groupby(\"year\").size().index)\n",
    "plt.title(\"WA\")"
   ]
  },
  {
   "cell_type": "code",
   "execution_count": null,
   "metadata": {
    "papermill": {
     "duration": 0.073549,
     "end_time": "2020-12-01T14:31:56.936658",
     "exception": false,
     "start_time": "2020-12-01T14:31:56.863109",
     "status": "completed"
    },
    "tags": []
   },
   "outputs": [],
   "source": []
  },
  {
   "cell_type": "code",
   "execution_count": 38,
   "metadata": {
    "execution": {
     "iopub.execute_input": "2020-12-01T14:31:57.111632Z",
     "iopub.status.busy": "2020-12-01T14:31:57.109851Z",
     "iopub.status.idle": "2020-12-01T14:31:57.309624Z",
     "shell.execute_reply": "2020-12-01T14:31:57.308769Z"
    },
    "papermill": {
     "duration": 0.300184,
     "end_time": "2020-12-01T14:31:57.309755",
     "exception": false,
     "start_time": "2020-12-01T14:31:57.009571",
     "status": "completed"
    },
    "tags": []
   },
   "outputs": [
    {
     "ename": "NameError",
     "evalue": "name 'state' is not defined",
     "output_type": "error",
     "traceback": [
      "\u001b[0;31m---------------------------------------------------------------------------\u001b[0m",
      "\u001b[0;31mNameError\u001b[0m                                 Traceback (most recent call last)",
      "\u001b[0;32m<ipython-input-38-bffbc09c22eb>\u001b[0m in \u001b[0;36m<module>\u001b[0;34m\u001b[0m\n\u001b[1;32m      2\u001b[0m     \u001b[0mdata_per_state\u001b[0m \u001b[0;34m=\u001b[0m \u001b[0mdata\u001b[0m\u001b[0;34m[\u001b[0m\u001b[0mdata\u001b[0m\u001b[0;34m.\u001b[0m\u001b[0mstate\u001b[0m\u001b[0;34m==\u001b[0m\u001b[0mstate_i\u001b[0m\u001b[0;34m]\u001b[0m\u001b[0;34m\u001b[0m\u001b[0;34m\u001b[0m\u001b[0m\n\u001b[1;32m      3\u001b[0m     \u001b[0msns\u001b[0m\u001b[0;34m.\u001b[0m\u001b[0mbarplot\u001b[0m\u001b[0;34m(\u001b[0m\u001b[0my\u001b[0m\u001b[0;34m=\u001b[0m\u001b[0mdata_per_state\u001b[0m\u001b[0;34m[\u001b[0m\u001b[0mdata_per_state\u001b[0m\u001b[0;34m.\u001b[0m\u001b[0mmonth\u001b[0m\u001b[0;34m<=\u001b[0m\u001b[0;36m6\u001b[0m\u001b[0;34m]\u001b[0m\u001b[0;34m.\u001b[0m\u001b[0mgroupby\u001b[0m\u001b[0;34m(\u001b[0m\u001b[0;34m\"year\"\u001b[0m\u001b[0;34m)\u001b[0m\u001b[0;34m.\u001b[0m\u001b[0msize\u001b[0m\u001b[0;34m(\u001b[0m\u001b[0;34m)\u001b[0m\u001b[0;34m,\u001b[0m \u001b[0mx\u001b[0m\u001b[0;34m=\u001b[0m \u001b[0mdata_per_state\u001b[0m\u001b[0;34m[\u001b[0m\u001b[0mdata_per_state\u001b[0m\u001b[0;34m.\u001b[0m\u001b[0mmonth\u001b[0m\u001b[0;34m<=\u001b[0m\u001b[0;36m6\u001b[0m\u001b[0;34m]\u001b[0m\u001b[0;34m.\u001b[0m\u001b[0mgroupby\u001b[0m\u001b[0;34m(\u001b[0m\u001b[0;34m\"year\"\u001b[0m\u001b[0;34m)\u001b[0m\u001b[0;34m.\u001b[0m\u001b[0msize\u001b[0m\u001b[0;34m(\u001b[0m\u001b[0;34m)\u001b[0m\u001b[0;34m.\u001b[0m\u001b[0mindex\u001b[0m\u001b[0;34m)\u001b[0m\u001b[0;34m\u001b[0m\u001b[0;34m\u001b[0m\u001b[0m\n\u001b[0;32m----> 4\u001b[0;31m     \u001b[0mplt\u001b[0m\u001b[0;34m.\u001b[0m\u001b[0mtitle\u001b[0m\u001b[0;34m(\u001b[0m\u001b[0mstate\u001b[0m\u001b[0;34m)\u001b[0m\u001b[0;34m\u001b[0m\u001b[0;34m\u001b[0m\u001b[0m\n\u001b[0m",
      "\u001b[0;31mNameError\u001b[0m: name 'state' is not defined"
     ]
    },
    {
     "data": {
      "image/png": "[encoded data removed]",
      "text/plain": [
       "<Figure size 432x288 with 1 Axes>"
      ]
     },
     "metadata": {
      "needs_background": "light"
     },
     "output_type": "display_data"
    }
   ],
   "source": [
    "for state_i in list(data.state):\n",
    "    data_per_state = data[data.state==state_i]\n",
    "    sns.barplot(y=data_per_state[data_per_state.month<=6].groupby(\"year\").size(), x= data_per_state[data_per_state.month<=6].groupby(\"year\").size().index)\n",
    "    plt.title(state)"
   ]
  },
  {
   "cell_type": "code",
   "execution_count": 39,
   "metadata": {
    "execution": {
     "iopub.execute_input": "2020-12-01T14:31:57.544240Z",
     "iopub.status.busy": "2020-12-01T14:31:57.539238Z",
     "iopub.status.idle": "2020-12-01T14:31:57.561335Z",
     "shell.execute_reply": "2020-12-01T14:31:57.560517Z"
    },
    "papermill": {
     "duration": 0.142546,
     "end_time": "2020-12-01T14:31:57.561468",
     "exception": false,
     "start_time": "2020-12-01T14:31:57.418922",
     "status": "completed"
    },
    "tags": []
   },
   "outputs": [
    {
     "data": {
      "text/plain": [
       "['WA',\n",
       " 'OR',\n",
       " 'KS',\n",
       " 'CA',\n",
       " 'CO',\n",
       " 'OK',\n",
       " 'AZ',\n",
       " 'KS',\n",
       " 'IA',\n",
       " 'PA',\n",
       " 'CA',\n",
       " 'TX',\n",
       " 'OH',\n",
       " 'IA',\n",
       " 'LA',\n",
       " 'MT',\n",
       " 'UT',\n",
       " 'AR',\n",
       " 'UT',\n",
       " 'AR',\n",
       " 'TX',\n",
       " 'IL',\n",
       " 'CA',\n",
       " 'NV',\n",
       " 'NM',\n",
       " 'TX',\n",
       " 'MN',\n",
       " 'MO',\n",
       " 'VA',\n",
       " 'NJ',\n",
       " 'TX',\n",
       " 'UT',\n",
       " 'IN',\n",
       " 'CO',\n",
       " 'MN',\n",
       " 'CA',\n",
       " 'LA',\n",
       " 'TX',\n",
       " 'CA',\n",
       " 'OK',\n",
       " 'CA',\n",
       " 'TX',\n",
       " 'AZ',\n",
       " 'KY',\n",
       " 'MA',\n",
       " 'AZ',\n",
       " 'CA',\n",
       " 'TX',\n",
       " 'MO',\n",
       " 'NH',\n",
       " 'TX',\n",
       " 'TX',\n",
       " 'FL',\n",
       " 'TX',\n",
       " 'TX',\n",
       " 'ID',\n",
       " 'MD',\n",
       " 'TX',\n",
       " 'CO',\n",
       " 'NJ',\n",
       " 'CO',\n",
       " 'MN',\n",
       " 'TX',\n",
       " 'CA',\n",
       " 'NE',\n",
       " 'AZ',\n",
       " 'AZ',\n",
       " 'OH',\n",
       " 'TX',\n",
       " 'TX',\n",
       " 'CA',\n",
       " 'MI',\n",
       " 'OK',\n",
       " 'MT',\n",
       " 'TX',\n",
       " 'MD',\n",
       " 'PA',\n",
       " 'CA',\n",
       " 'MI',\n",
       " 'MO',\n",
       " 'CA',\n",
       " 'CA',\n",
       " 'GA',\n",
       " 'FL',\n",
       " 'FL',\n",
       " 'AZ',\n",
       " 'AZ',\n",
       " 'TX',\n",
       " 'TN',\n",
       " 'CA',\n",
       " 'OK',\n",
       " 'CA',\n",
       " 'NC',\n",
       " 'AK',\n",
       " 'TX',\n",
       " 'NY',\n",
       " 'FL',\n",
       " 'TX',\n",
       " 'ME',\n",
       " 'TX',\n",
       " 'TN',\n",
       " 'CO',\n",
       " 'WA',\n",
       " 'CA',\n",
       " 'AL',\n",
       " 'CA',\n",
       " 'KS',\n",
       " 'PA',\n",
       " 'TN',\n",
       " 'AZ',\n",
       " 'MD',\n",
       " 'TX',\n",
       " 'MS',\n",
       " 'OR',\n",
       " 'FL',\n",
       " 'AZ',\n",
       " 'ID',\n",
       " 'UT',\n",
       " 'NC',\n",
       " 'MO',\n",
       " 'MI',\n",
       " 'MA',\n",
       " 'TX',\n",
       " 'NC',\n",
       " 'TX',\n",
       " 'AL',\n",
       " 'AL',\n",
       " 'TX',\n",
       " 'NM',\n",
       " 'IN',\n",
       " 'FL',\n",
       " 'LA',\n",
       " 'GA',\n",
       " 'GA',\n",
       " 'AL',\n",
       " 'PA',\n",
       " 'NE',\n",
       " 'WI',\n",
       " 'OK',\n",
       " 'NV',\n",
       " 'FL',\n",
       " 'CA',\n",
       " 'MS',\n",
       " 'GA',\n",
       " 'IN',\n",
       " 'CA',\n",
       " 'SC',\n",
       " 'MO',\n",
       " 'AZ',\n",
       " 'MO',\n",
       " 'NC',\n",
       " 'AZ',\n",
       " 'MI',\n",
       " 'TX',\n",
       " 'MS',\n",
       " 'CA',\n",
       " 'IL',\n",
       " 'MD',\n",
       " 'AZ',\n",
       " 'FL',\n",
       " 'CA',\n",
       " 'WI',\n",
       " 'CA',\n",
       " 'NE',\n",
       " 'WI',\n",
       " 'CO',\n",
       " 'FL',\n",
       " 'AZ',\n",
       " 'CA',\n",
       " 'OK',\n",
       " 'DE',\n",
       " 'GA',\n",
       " 'NC',\n",
       " 'CO',\n",
       " 'FL',\n",
       " 'OH',\n",
       " 'LA',\n",
       " 'GA',\n",
       " 'CA',\n",
       " 'MD',\n",
       " 'TN',\n",
       " 'CA',\n",
       " 'AZ',\n",
       " 'AL',\n",
       " 'AL',\n",
       " 'CA',\n",
       " 'DC',\n",
       " 'CA',\n",
       " 'MO',\n",
       " 'CA',\n",
       " 'CA',\n",
       " 'WV',\n",
       " 'WI',\n",
       " 'TX',\n",
       " 'MS',\n",
       " 'MN',\n",
       " 'NC',\n",
       " 'OR',\n",
       " 'NC',\n",
       " 'CA',\n",
       " 'TX',\n",
       " 'CA',\n",
       " 'AZ',\n",
       " 'FL',\n",
       " 'CA',\n",
       " 'AL',\n",
       " 'OH',\n",
       " 'ID',\n",
       " 'FL',\n",
       " 'WA',\n",
       " 'CA',\n",
       " 'LA',\n",
       " 'OK',\n",
       " 'AZ',\n",
       " 'AZ',\n",
       " 'NY',\n",
       " 'IN',\n",
       " 'OH',\n",
       " 'CA',\n",
       " 'OR',\n",
       " 'NY',\n",
       " 'CA',\n",
       " 'VA',\n",
       " 'CA',\n",
       " 'WI',\n",
       " 'GA',\n",
       " 'SC',\n",
       " 'CA',\n",
       " 'AZ',\n",
       " 'KS',\n",
       " 'CA',\n",
       " 'CA',\n",
       " 'WV',\n",
       " 'MA',\n",
       " 'CA',\n",
       " 'FL',\n",
       " 'CA',\n",
       " 'MA',\n",
       " 'KY',\n",
       " 'OH',\n",
       " 'NV',\n",
       " 'OR',\n",
       " 'FL',\n",
       " 'TX',\n",
       " 'MD',\n",
       " 'CA',\n",
       " 'NJ',\n",
       " 'IL',\n",
       " 'OK',\n",
       " 'LA',\n",
       " 'IL',\n",
       " 'VA',\n",
       " 'IL',\n",
       " 'CA',\n",
       " 'NM',\n",
       " 'SC',\n",
       " 'AZ',\n",
       " 'CA',\n",
       " 'IN',\n",
       " 'LA',\n",
       " 'ID',\n",
       " 'OK',\n",
       " 'TX',\n",
       " 'GA',\n",
       " 'CA',\n",
       " 'CA',\n",
       " 'FL',\n",
       " 'IN',\n",
       " 'PA',\n",
       " 'SC',\n",
       " 'OK',\n",
       " 'CA',\n",
       " 'KS',\n",
       " 'OK',\n",
       " 'IN',\n",
       " 'OK',\n",
       " 'NC',\n",
       " 'IL',\n",
       " 'TX',\n",
       " 'AR',\n",
       " 'FL',\n",
       " 'SC',\n",
       " 'TX',\n",
       " 'MO',\n",
       " 'CO',\n",
       " 'CA',\n",
       " 'CA',\n",
       " 'IL',\n",
       " 'CA',\n",
       " 'MO',\n",
       " 'AZ',\n",
       " 'FL',\n",
       " 'KY',\n",
       " 'NE',\n",
       " 'TX',\n",
       " 'WA',\n",
       " 'SC',\n",
       " 'CA',\n",
       " 'NJ',\n",
       " 'VA',\n",
       " 'AZ',\n",
       " 'NY',\n",
       " 'TX',\n",
       " 'CO',\n",
       " 'CA',\n",
       " 'OK',\n",
       " 'CA',\n",
       " 'CA',\n",
       " 'OR',\n",
       " 'OK',\n",
       " 'CO',\n",
       " 'TX',\n",
       " 'NY',\n",
       " 'FL',\n",
       " 'OK',\n",
       " 'CA',\n",
       " 'CA',\n",
       " 'MI',\n",
       " 'OH',\n",
       " 'LA',\n",
       " 'IL',\n",
       " 'OK',\n",
       " 'AZ',\n",
       " 'CA',\n",
       " 'GA',\n",
       " 'VA',\n",
       " 'TN',\n",
       " 'CA',\n",
       " 'TX',\n",
       " 'DE',\n",
       " 'UT',\n",
       " 'TX',\n",
       " 'TX',\n",
       " 'NM',\n",
       " 'KY',\n",
       " 'WA',\n",
       " 'CA',\n",
       " 'CA',\n",
       " 'VA',\n",
       " 'NC',\n",
       " 'GA',\n",
       " 'NY',\n",
       " 'CA',\n",
       " 'AZ',\n",
       " 'NY',\n",
       " 'LA',\n",
       " 'MN',\n",
       " 'WA',\n",
       " 'MD',\n",
       " 'TX',\n",
       " 'FL',\n",
       " 'FL',\n",
       " 'CA',\n",
       " 'HI',\n",
       " 'MI',\n",
       " 'FL',\n",
       " 'IL',\n",
       " 'CA',\n",
       " 'IL',\n",
       " 'CA',\n",
       " 'FL',\n",
       " 'NM',\n",
       " 'VA',\n",
       " 'AR',\n",
       " 'CO',\n",
       " 'PA',\n",
       " 'KY',\n",
       " 'NE',\n",
       " 'OH',\n",
       " 'WY',\n",
       " 'TX',\n",
       " 'FL',\n",
       " 'SC',\n",
       " 'NJ',\n",
       " 'SC',\n",
       " 'PA',\n",
       " 'MO',\n",
       " 'AZ',\n",
       " 'MI',\n",
       " 'TX',\n",
       " 'AL',\n",
       " 'NY',\n",
       " 'LA',\n",
       " 'WA',\n",
       " 'NJ',\n",
       " 'OK',\n",
       " 'GA',\n",
       " 'CA',\n",
       " 'CA',\n",
       " 'SC',\n",
       " 'CO',\n",
       " 'GA',\n",
       " 'MI',\n",
       " 'NJ',\n",
       " 'OK',\n",
       " 'OR',\n",
       " 'AZ',\n",
       " 'TN',\n",
       " 'OR',\n",
       " 'TX',\n",
       " 'NY',\n",
       " 'MA',\n",
       " 'TX',\n",
       " 'TX',\n",
       " 'TX',\n",
       " 'NJ',\n",
       " 'CA',\n",
       " 'NM',\n",
       " 'CA',\n",
       " 'WV',\n",
       " 'FL',\n",
       " 'CA',\n",
       " 'TX',\n",
       " 'CO',\n",
       " 'CA',\n",
       " 'FL',\n",
       " 'WA',\n",
       " 'IN',\n",
       " 'CA',\n",
       " 'AZ',\n",
       " 'OH',\n",
       " 'TX',\n",
       " 'OH',\n",
       " 'IA',\n",
       " 'NY',\n",
       " 'FL',\n",
       " 'TN',\n",
       " 'FL',\n",
       " 'TX',\n",
       " 'NJ',\n",
       " 'IN',\n",
       " 'IN',\n",
       " 'KY',\n",
       " 'TX',\n",
       " 'CA',\n",
       " 'FL',\n",
       " 'CA',\n",
       " 'CA',\n",
       " 'ND',\n",
       " 'AL',\n",
       " 'NM',\n",
       " 'NY',\n",
       " 'MA',\n",
       " 'OH',\n",
       " 'CO',\n",
       " 'IL',\n",
       " 'CA',\n",
       " 'TX',\n",
       " 'NC',\n",
       " 'CA',\n",
       " 'GA',\n",
       " 'PA',\n",
       " 'IN',\n",
       " 'KS',\n",
       " 'TX',\n",
       " 'NE',\n",
       " 'VA',\n",
       " 'MD',\n",
       " 'CA',\n",
       " 'NY',\n",
       " 'TX',\n",
       " 'OK',\n",
       " 'OR',\n",
       " 'NY',\n",
       " 'NC',\n",
       " 'OR',\n",
       " 'OR',\n",
       " 'MA',\n",
       " 'CA',\n",
       " 'FL',\n",
       " 'WV',\n",
       " 'CA',\n",
       " 'NJ',\n",
       " 'FL',\n",
       " 'CA',\n",
       " 'OK',\n",
       " 'TN',\n",
       " 'VA',\n",
       " 'NV',\n",
       " 'CA',\n",
       " 'TX',\n",
       " 'CA',\n",
       " 'TX',\n",
       " 'OK',\n",
       " 'NH',\n",
       " 'CA',\n",
       " 'CA',\n",
       " 'CA',\n",
       " 'TX',\n",
       " 'AZ',\n",
       " 'TX',\n",
       " 'CA',\n",
       " 'TX',\n",
       " 'NJ',\n",
       " 'MO',\n",
       " 'KY',\n",
       " 'OR',\n",
       " 'NC',\n",
       " 'UT',\n",
       " 'AZ',\n",
       " 'IL',\n",
       " 'CA',\n",
       " 'MO',\n",
       " 'CA',\n",
       " 'NV',\n",
       " 'GA',\n",
       " 'IL',\n",
       " 'CA',\n",
       " 'CO',\n",
       " 'TX',\n",
       " 'IL',\n",
       " 'WY',\n",
       " 'FL',\n",
       " 'GA',\n",
       " 'CA',\n",
       " 'MA',\n",
       " 'CA',\n",
       " 'FL',\n",
       " 'OH',\n",
       " 'MI',\n",
       " 'WI',\n",
       " 'FL',\n",
       " 'KS',\n",
       " 'TN',\n",
       " 'WY',\n",
       " 'AL',\n",
       " 'CA',\n",
       " 'WA',\n",
       " 'CA',\n",
       " 'TN',\n",
       " 'TX',\n",
       " 'FL',\n",
       " 'CO',\n",
       " 'AZ',\n",
       " 'KS',\n",
       " 'OH',\n",
       " 'TX',\n",
       " 'CA',\n",
       " 'GA',\n",
       " 'FL',\n",
       " 'GA',\n",
       " 'WI',\n",
       " 'PA',\n",
       " 'OK',\n",
       " 'OH',\n",
       " 'SC',\n",
       " 'WY',\n",
       " 'CA',\n",
       " 'MN',\n",
       " 'CA',\n",
       " 'NC',\n",
       " 'LA',\n",
       " 'GA',\n",
       " 'NV',\n",
       " 'FL',\n",
       " 'LA',\n",
       " 'SC',\n",
       " 'SC',\n",
       " 'LA',\n",
       " 'CO',\n",
       " 'AR',\n",
       " 'NM',\n",
       " 'UT',\n",
       " 'NV',\n",
       " 'CA',\n",
       " 'TX',\n",
       " 'CA',\n",
       " 'NM',\n",
       " 'NM',\n",
       " 'WV',\n",
       " 'AZ',\n",
       " 'TX',\n",
       " 'CA',\n",
       " 'PA',\n",
       " 'VA',\n",
       " 'IN',\n",
       " 'CA',\n",
       " 'IL',\n",
       " 'KY',\n",
       " 'WI',\n",
       " 'HI',\n",
       " 'VA',\n",
       " 'TN',\n",
       " 'WA',\n",
       " 'KY',\n",
       " 'TX',\n",
       " 'TX',\n",
       " 'NV',\n",
       " 'CA',\n",
       " 'MT',\n",
       " 'NC',\n",
       " 'CA',\n",
       " 'TX',\n",
       " 'SC',\n",
       " 'NC',\n",
       " 'WA',\n",
       " 'IN',\n",
       " 'OK',\n",
       " 'PA',\n",
       " 'CA',\n",
       " 'AZ',\n",
       " 'ID',\n",
       " 'TX',\n",
       " 'TX',\n",
       " 'CA',\n",
       " 'CA',\n",
       " 'OH',\n",
       " 'NM',\n",
       " 'CA',\n",
       " 'NY',\n",
       " 'TX',\n",
       " 'MD',\n",
       " 'CT',\n",
       " 'CA',\n",
       " 'CA',\n",
       " 'NV',\n",
       " 'IN',\n",
       " 'CA',\n",
       " 'TX',\n",
       " 'TX',\n",
       " 'CA',\n",
       " 'MO',\n",
       " 'MI',\n",
       " 'WA',\n",
       " 'NC',\n",
       " 'CA',\n",
       " 'OH',\n",
       " 'AL',\n",
       " 'WA',\n",
       " 'MD',\n",
       " 'NC',\n",
       " 'MN',\n",
       " 'CA',\n",
       " 'KS',\n",
       " 'VA',\n",
       " 'NY',\n",
       " 'NV',\n",
       " 'FL',\n",
       " 'AL',\n",
       " 'NJ',\n",
       " 'NC',\n",
       " 'NM',\n",
       " 'PA',\n",
       " 'FL',\n",
       " 'AZ',\n",
       " 'FL',\n",
       " 'TN',\n",
       " 'TN',\n",
       " 'UT',\n",
       " 'CA',\n",
       " 'CA',\n",
       " 'CA',\n",
       " 'TX',\n",
       " 'TX',\n",
       " 'UT',\n",
       " 'NY',\n",
       " 'TX',\n",
       " 'NV',\n",
       " 'TX',\n",
       " 'IL',\n",
       " 'OK',\n",
       " 'AZ',\n",
       " 'CO',\n",
       " 'WV',\n",
       " 'OH',\n",
       " 'NM',\n",
       " 'AZ',\n",
       " 'CA',\n",
       " 'SD',\n",
       " 'CA',\n",
       " 'TX',\n",
       " 'NH',\n",
       " 'IN',\n",
       " 'NC',\n",
       " 'CA',\n",
       " 'VA',\n",
       " 'VA',\n",
       " 'FL',\n",
       " 'LA',\n",
       " 'NM',\n",
       " 'CA',\n",
       " 'AK',\n",
       " 'WI',\n",
       " 'MO',\n",
       " 'AK',\n",
       " 'CA',\n",
       " 'NY',\n",
       " 'CA',\n",
       " 'IN',\n",
       " 'CA',\n",
       " 'CA',\n",
       " 'PA',\n",
       " 'CO',\n",
       " 'AL',\n",
       " 'TN',\n",
       " 'IA',\n",
       " 'OK',\n",
       " 'TX',\n",
       " 'KY',\n",
       " 'CA',\n",
       " 'LA',\n",
       " 'CA',\n",
       " 'FL',\n",
       " 'CA',\n",
       " 'LA',\n",
       " 'SD',\n",
       " 'MI',\n",
       " 'KY',\n",
       " 'CA',\n",
       " 'TN',\n",
       " 'LA',\n",
       " 'AL',\n",
       " 'VA',\n",
       " 'IN',\n",
       " 'TX',\n",
       " 'CA',\n",
       " 'CA',\n",
       " 'FL',\n",
       " 'FL',\n",
       " 'TX',\n",
       " 'CA',\n",
       " 'FL',\n",
       " 'CA',\n",
       " 'NV',\n",
       " 'UT',\n",
       " 'TX',\n",
       " 'MD',\n",
       " 'VA',\n",
       " 'DE',\n",
       " 'FL',\n",
       " 'CO',\n",
       " 'MN',\n",
       " 'OH',\n",
       " 'AZ',\n",
       " 'IL',\n",
       " 'LA',\n",
       " 'NM',\n",
       " 'CA',\n",
       " 'GA',\n",
       " 'TX',\n",
       " 'CA',\n",
       " 'FL',\n",
       " 'SD',\n",
       " 'MN',\n",
       " 'WV',\n",
       " 'AZ',\n",
       " 'OR',\n",
       " 'TX',\n",
       " 'CA',\n",
       " 'CA',\n",
       " 'AL',\n",
       " 'IL',\n",
       " 'TX',\n",
       " 'NJ',\n",
       " 'OH',\n",
       " 'OK',\n",
       " 'CA',\n",
       " 'FL',\n",
       " 'MD',\n",
       " 'CA',\n",
       " 'MA',\n",
       " 'CT',\n",
       " 'CA',\n",
       " 'MI',\n",
       " 'IL',\n",
       " 'CA',\n",
       " 'LA',\n",
       " 'SC',\n",
       " 'TX',\n",
       " 'OK',\n",
       " 'MS',\n",
       " 'GA',\n",
       " 'FL',\n",
       " 'CA',\n",
       " 'CA',\n",
       " 'AL',\n",
       " 'FL',\n",
       " 'OH',\n",
       " 'NV',\n",
       " 'OH',\n",
       " 'WA',\n",
       " 'CA',\n",
       " 'TX',\n",
       " 'CA',\n",
       " 'GA',\n",
       " 'MS',\n",
       " 'TX',\n",
       " 'CA',\n",
       " 'PA',\n",
       " 'FL',\n",
       " 'CA',\n",
       " 'CA',\n",
       " 'KY',\n",
       " 'CA',\n",
       " 'NM',\n",
       " 'LA',\n",
       " 'IA',\n",
       " 'CA',\n",
       " 'CA',\n",
       " 'MI',\n",
       " 'LA',\n",
       " 'CA',\n",
       " 'KY',\n",
       " 'CA',\n",
       " 'FL',\n",
       " 'CA',\n",
       " 'OH',\n",
       " 'WI',\n",
       " 'AK',\n",
       " 'NY',\n",
       " 'GA',\n",
       " 'MD',\n",
       " 'DC',\n",
       " 'FL',\n",
       " 'GA',\n",
       " 'CA',\n",
       " 'MS',\n",
       " 'FL',\n",
       " 'OR',\n",
       " 'OH',\n",
       " 'TN',\n",
       " 'KY',\n",
       " 'TX',\n",
       " 'TX',\n",
       " 'OK',\n",
       " 'TX',\n",
       " 'FL',\n",
       " 'CO',\n",
       " 'AL',\n",
       " 'MN',\n",
       " 'CA',\n",
       " 'ID',\n",
       " 'DC',\n",
       " 'LA',\n",
       " 'MO',\n",
       " 'TX',\n",
       " 'CA',\n",
       " 'CA',\n",
       " 'WV',\n",
       " 'OK',\n",
       " 'MO',\n",
       " 'SC',\n",
       " 'OR',\n",
       " 'NV',\n",
       " 'NC',\n",
       " 'SC',\n",
       " 'TX',\n",
       " 'WV',\n",
       " 'CA',\n",
       " 'CA',\n",
       " 'CA',\n",
       " 'CO',\n",
       " 'MT',\n",
       " 'CO',\n",
       " 'NM',\n",
       " 'CA',\n",
       " 'SC',\n",
       " 'MD',\n",
       " 'CA',\n",
       " 'TN',\n",
       " 'CA',\n",
       " 'GA',\n",
       " 'CA',\n",
       " 'CA',\n",
       " 'PA',\n",
       " 'MN',\n",
       " 'NC',\n",
       " 'GA',\n",
       " 'TX',\n",
       " 'FL',\n",
       " 'SC',\n",
       " 'TX',\n",
       " 'GA',\n",
       " 'NJ',\n",
       " 'TX',\n",
       " 'FL',\n",
       " 'MI',\n",
       " 'FL',\n",
       " 'FL',\n",
       " 'DC',\n",
       " 'CA',\n",
       " 'GA',\n",
       " 'CA',\n",
       " 'OK',\n",
       " 'CA',\n",
       " 'NV',\n",
       " 'CO',\n",
       " 'OH',\n",
       " 'TX',\n",
       " 'MN',\n",
       " 'NJ',\n",
       " 'NV',\n",
       " 'MO',\n",
       " 'AZ',\n",
       " 'MO',\n",
       " 'CA',\n",
       " 'MO',\n",
       " 'TX',\n",
       " 'OH',\n",
       " 'MO',\n",
       " 'AZ',\n",
       " 'CA',\n",
       " 'NE',\n",
       " 'CO',\n",
       " 'GA',\n",
       " 'TX',\n",
       " 'ME',\n",
       " 'CA',\n",
       " 'CO',\n",
       " 'CA',\n",
       " 'CA',\n",
       " 'CA',\n",
       " 'TX',\n",
       " 'NM',\n",
       " 'NE',\n",
       " 'PA',\n",
       " 'AZ',\n",
       " 'TX',\n",
       " 'WI',\n",
       " 'MO',\n",
       " 'CA',\n",
       " 'FL',\n",
       " 'WA',\n",
       " 'OH',\n",
       " 'WY',\n",
       " 'NY',\n",
       " 'OH',\n",
       " 'KY',\n",
       " 'OK',\n",
       " 'IN',\n",
       " 'SC',\n",
       " 'CA',\n",
       " 'CA',\n",
       " 'AZ',\n",
       " 'IN',\n",
       " 'TN',\n",
       " 'CA',\n",
       " 'OK',\n",
       " 'PA',\n",
       " 'CA',\n",
       " 'CO',\n",
       " 'TX',\n",
       " 'TX',\n",
       " 'WA',\n",
       " 'CO',\n",
       " 'LA',\n",
       " 'TN',\n",
       " 'NV',\n",
       " 'CA',\n",
       " 'CA',\n",
       " 'NV',\n",
       " 'WV',\n",
       " 'MD',\n",
       " 'NC',\n",
       " 'CA',\n",
       " 'OH',\n",
       " 'CA',\n",
       " 'OH',\n",
       " 'TN',\n",
       " 'NM',\n",
       " 'VA',\n",
       " 'CA',\n",
       " 'CA',\n",
       " 'TX',\n",
       " 'CA',\n",
       " 'GA',\n",
       " 'LA',\n",
       " 'PA',\n",
       " 'FL',\n",
       " 'CO',\n",
       " 'CA',\n",
       " 'KY',\n",
       " 'VT',\n",
       " 'FL',\n",
       " 'NM',\n",
       " 'MI',\n",
       " 'LA',\n",
       " 'LA',\n",
       " 'MI',\n",
       " 'CA',\n",
       " 'CA',\n",
       " 'AZ',\n",
       " 'IL',\n",
       " 'IL',\n",
       " 'ID',\n",
       " 'MS',\n",
       " 'AZ',\n",
       " 'LA',\n",
       " 'VA',\n",
       " 'CA',\n",
       " 'CA',\n",
       " 'CA',\n",
       " 'WY',\n",
       " 'NV',\n",
       " 'CA',\n",
       " 'TX',\n",
       " 'SD',\n",
       " 'MT',\n",
       " 'NC',\n",
       " 'LA',\n",
       " ...]"
      ]
     },
     "execution_count": 39,
     "metadata": {},
     "output_type": "execute_result"
    }
   ],
   "source": [
    "list(data.state)"
   ]
  },
  {
   "cell_type": "markdown",
   "metadata": {
    "papermill": {
     "duration": 0.110054,
     "end_time": "2020-12-01T14:31:57.785177",
     "exception": false,
     "start_time": "2020-12-01T14:31:57.675123",
     "status": "completed"
    },
    "tags": []
   },
   "source": [
    "# While fatal police shootings remained relatively unchanged during the first six months of 2020,\n",
    "# crime in general fell across major U.S. cities compared to previous years."
   ]
  },
  {
   "cell_type": "code",
   "execution_count": null,
   "metadata": {
    "papermill": {
     "duration": 0.110108,
     "end_time": "2020-12-01T14:31:58.004949",
     "exception": false,
     "start_time": "2020-12-01T14:31:57.894841",
     "status": "completed"
    },
    "tags": []
   },
   "outputs": [],
   "source": []
  },
  {
   "cell_type": "code",
   "execution_count": 40,
   "metadata": {
    "execution": {
     "iopub.execute_input": "2020-12-01T14:31:58.237684Z",
     "iopub.status.busy": "2020-12-01T14:31:58.235643Z",
     "iopub.status.idle": "2020-12-01T14:31:58.245771Z",
     "shell.execute_reply": "2020-12-01T14:31:58.244747Z"
    },
    "papermill": {
     "duration": 0.128822,
     "end_time": "2020-12-01T14:31:58.245927",
     "exception": false,
     "start_time": "2020-12-01T14:31:58.117105",
     "status": "completed"
    },
    "tags": []
   },
   "outputs": [
    {
     "name": "stderr",
     "output_type": "stream",
     "text": [
      "/opt/conda/lib/python3.7/site-packages/ipykernel_launcher.py:2: FutureWarning: Series.dt.weekofyear and Series.dt.week have been deprecated.  Please use Series.dt.isocalendar().week instead.\n",
      "  \n"
     ]
    }
   ],
   "source": [
    "# Find the weekly deaths\n",
    "lockdown = lockdown.assign(week=lockdown.date.dt.week)"
   ]
  },
  {
   "cell_type": "code",
   "execution_count": 41,
   "metadata": {
    "execution": {
     "iopub.execute_input": "2020-12-01T14:31:58.482113Z",
     "iopub.status.busy": "2020-12-01T14:31:58.481460Z",
     "iopub.status.idle": "2020-12-01T14:31:58.785001Z",
     "shell.execute_reply": "2020-12-01T14:31:58.784476Z"
    },
    "papermill": {
     "duration": 0.424552,
     "end_time": "2020-12-01T14:31:58.785133",
     "exception": false,
     "start_time": "2020-12-01T14:31:58.360581",
     "status": "completed"
    },
    "tags": []
   },
   "outputs": [
    {
     "data": {
      "text/plain": [
       "<matplotlib.axes._subplots.AxesSubplot at 0x7f5c0e31c690>"
      ]
     },
     "execution_count": 41,
     "metadata": {},
     "output_type": "execute_result"
    },
    {
     "data": {
      "image/png": "[encoded data removed]",
      "text/plain": [
       "<Figure size 432x288 with 1 Axes>"
      ]
     },
     "metadata": {
      "needs_background": "light"
     },
     "output_type": "display_data"
    }
   ],
   "source": [
    "sns.barplot(y=lockdown.groupby(\"week\").size(), x=lockdown.groupby(\"week\").size().index)"
   ]
  },
  {
   "cell_type": "code",
   "execution_count": 42,
   "metadata": {
    "execution": {
     "iopub.execute_input": "2020-12-01T14:31:58.963349Z",
     "iopub.status.busy": "2020-12-01T14:31:58.949386Z",
     "iopub.status.idle": "2020-12-01T14:31:58.977453Z",
     "shell.execute_reply": "2020-12-01T14:31:58.976628Z"
    },
    "papermill": {
     "duration": 0.117092,
     "end_time": "2020-12-01T14:31:58.977580",
     "exception": false,
     "start_time": "2020-12-01T14:31:58.860488",
     "status": "completed"
    },
    "tags": []
   },
   "outputs": [
    {
     "data": {
      "text/html": [
       "<div>\n",
       "<style scoped>\n",
       "    .dataframe tbody tr th:only-of-type {\n",
       "        vertical-align: middle;\n",
       "    }\n",
       "\n",
       "    .dataframe tbody tr th {\n",
       "        vertical-align: top;\n",
       "    }\n",
       "\n",
       "    .dataframe thead th {\n",
       "        text-align: right;\n",
       "    }\n",
       "</style>\n",
       "<table border=\"1\" class=\"dataframe\">\n",
       "  <thead>\n",
       "    <tr style=\"text-align: right;\">\n",
       "      <th></th>\n",
       "      <th>date</th>\n",
       "      <th>manner_of_death</th>\n",
       "      <th>armed</th>\n",
       "      <th>age</th>\n",
       "      <th>gender</th>\n",
       "      <th>race</th>\n",
       "      <th>city</th>\n",
       "      <th>state</th>\n",
       "      <th>signs_of_mental_illness</th>\n",
       "      <th>threat_level</th>\n",
       "      <th>flee</th>\n",
       "      <th>body_camera</th>\n",
       "      <th>longitude</th>\n",
       "      <th>latitude</th>\n",
       "      <th>is_geocoding_exact</th>\n",
       "      <th>geometry</th>\n",
       "      <th>day</th>\n",
       "      <th>month</th>\n",
       "      <th>year</th>\n",
       "      <th>week</th>\n",
       "    </tr>\n",
       "    <tr>\n",
       "      <th>name</th>\n",
       "      <th></th>\n",
       "      <th></th>\n",
       "      <th></th>\n",
       "      <th></th>\n",
       "      <th></th>\n",
       "      <th></th>\n",
       "      <th></th>\n",
       "      <th></th>\n",
       "      <th></th>\n",
       "      <th></th>\n",
       "      <th></th>\n",
       "      <th></th>\n",
       "      <th></th>\n",
       "      <th></th>\n",
       "      <th></th>\n",
       "      <th></th>\n",
       "      <th></th>\n",
       "      <th></th>\n",
       "      <th></th>\n",
       "      <th></th>\n",
       "    </tr>\n",
       "  </thead>\n",
       "  <tbody>\n",
       "    <tr>\n",
       "      <th>Wade Russell Meisberger</th>\n",
       "      <td>2020-06-29</td>\n",
       "      <td>shot</td>\n",
       "      <td>gun</td>\n",
       "      <td>48.0</td>\n",
       "      <td>M</td>\n",
       "      <td>W</td>\n",
       "      <td>Hazleton</td>\n",
       "      <td>PA</td>\n",
       "      <td>False</td>\n",
       "      <td>attack</td>\n",
       "      <td>Car</td>\n",
       "      <td>False</td>\n",
       "      <td>-75.979</td>\n",
       "      <td>40.950</td>\n",
       "      <td>True</td>\n",
       "      <td>POINT (-75.97900 40.95000)</td>\n",
       "      <td>29</td>\n",
       "      <td>6</td>\n",
       "      <td>2020</td>\n",
       "      <td>27</td>\n",
       "    </tr>\n",
       "    <tr>\n",
       "      <th>Brittany S. Teichroeb</th>\n",
       "      <td>2020-06-29</td>\n",
       "      <td>shot</td>\n",
       "      <td>gun</td>\n",
       "      <td>26.0</td>\n",
       "      <td>F</td>\n",
       "      <td>W</td>\n",
       "      <td>Midland</td>\n",
       "      <td>TX</td>\n",
       "      <td>False</td>\n",
       "      <td>other</td>\n",
       "      <td>Other</td>\n",
       "      <td>False</td>\n",
       "      <td>-102.161</td>\n",
       "      <td>31.996</td>\n",
       "      <td>True</td>\n",
       "      <td>POINT (-102.16100 31.99600)</td>\n",
       "      <td>29</td>\n",
       "      <td>6</td>\n",
       "      <td>2020</td>\n",
       "      <td>27</td>\n",
       "    </tr>\n",
       "    <tr>\n",
       "      <th>Nick Costales</th>\n",
       "      <td>2020-06-29</td>\n",
       "      <td>shot</td>\n",
       "      <td>gun</td>\n",
       "      <td>34.0</td>\n",
       "      <td>M</td>\n",
       "      <td>H</td>\n",
       "      <td>Pomona</td>\n",
       "      <td>CA</td>\n",
       "      <td>True</td>\n",
       "      <td>attack</td>\n",
       "      <td>Car</td>\n",
       "      <td>False</td>\n",
       "      <td>NaN</td>\n",
       "      <td>NaN</td>\n",
       "      <td>True</td>\n",
       "      <td>POINT (nan nan)</td>\n",
       "      <td>29</td>\n",
       "      <td>6</td>\n",
       "      <td>2020</td>\n",
       "      <td>27</td>\n",
       "    </tr>\n",
       "    <tr>\n",
       "      <th>Kevin Lee Catlett</th>\n",
       "      <td>2020-06-30</td>\n",
       "      <td>shot</td>\n",
       "      <td>gun</td>\n",
       "      <td>62.0</td>\n",
       "      <td>M</td>\n",
       "      <td>W</td>\n",
       "      <td>Johnson City</td>\n",
       "      <td>TN</td>\n",
       "      <td>False</td>\n",
       "      <td>attack</td>\n",
       "      <td>NaN</td>\n",
       "      <td>False</td>\n",
       "      <td>-82.331</td>\n",
       "      <td>36.353</td>\n",
       "      <td>True</td>\n",
       "      <td>POINT (-82.33100 36.35300)</td>\n",
       "      <td>30</td>\n",
       "      <td>6</td>\n",
       "      <td>2020</td>\n",
       "      <td>27</td>\n",
       "    </tr>\n",
       "    <tr>\n",
       "      <th>Lance A. Bowman</th>\n",
       "      <td>2020-06-30</td>\n",
       "      <td>shot</td>\n",
       "      <td>gun</td>\n",
       "      <td>30.0</td>\n",
       "      <td>M</td>\n",
       "      <td>W</td>\n",
       "      <td>Liberty</td>\n",
       "      <td>MO</td>\n",
       "      <td>False</td>\n",
       "      <td>attack</td>\n",
       "      <td>Car</td>\n",
       "      <td>False</td>\n",
       "      <td>-94.418</td>\n",
       "      <td>39.249</td>\n",
       "      <td>True</td>\n",
       "      <td>POINT (-94.41800 39.24900)</td>\n",
       "      <td>30</td>\n",
       "      <td>6</td>\n",
       "      <td>2020</td>\n",
       "      <td>27</td>\n",
       "    </tr>\n",
       "  </tbody>\n",
       "</table>\n",
       "</div>"
      ],
      "text/plain": [
       "                              date manner_of_death armed   age gender race  \\\n",
       "name                                                                         \n",
       "Wade Russell Meisberger 2020-06-29            shot   gun  48.0      M    W   \n",
       "Brittany S. Teichroeb   2020-06-29            shot   gun  26.0      F    W   \n",
       "Nick Costales           2020-06-29            shot   gun  34.0      M    H   \n",
       "Kevin Lee Catlett       2020-06-30            shot   gun  62.0      M    W   \n",
       "Lance A. Bowman         2020-06-30            shot   gun  30.0      M    W   \n",
       "\n",
       "                                 city state  signs_of_mental_illness  \\\n",
       "name                                                                   \n",
       "Wade Russell Meisberger      Hazleton    PA                    False   \n",
       "Brittany S. Teichroeb         Midland    TX                    False   \n",
       "Nick Costales                  Pomona    CA                     True   \n",
       "Kevin Lee Catlett        Johnson City    TN                    False   \n",
       "Lance A. Bowman               Liberty    MO                    False   \n",
       "\n",
       "                        threat_level   flee  body_camera  longitude  latitude  \\\n",
       "name                                                                            \n",
       "Wade Russell Meisberger       attack    Car        False    -75.979    40.950   \n",
       "Brittany S. Teichroeb          other  Other        False   -102.161    31.996   \n",
       "Nick Costales                 attack    Car        False        NaN       NaN   \n",
       "Kevin Lee Catlett             attack    NaN        False    -82.331    36.353   \n",
       "Lance A. Bowman               attack    Car        False    -94.418    39.249   \n",
       "\n",
       "                         is_geocoding_exact                     geometry  day  \\\n",
       "name                                                                            \n",
       "Wade Russell Meisberger                True   POINT (-75.97900 40.95000)   29   \n",
       "Brittany S. Teichroeb                  True  POINT (-102.16100 31.99600)   29   \n",
       "Nick Costales                          True              POINT (nan nan)   29   \n",
       "Kevin Lee Catlett                      True   POINT (-82.33100 36.35300)   30   \n",
       "Lance A. Bowman                        True   POINT (-94.41800 39.24900)   30   \n",
       "\n",
       "                         month  year  week  \n",
       "name                                        \n",
       "Wade Russell Meisberger      6  2020    27  \n",
       "Brittany S. Teichroeb        6  2020    27  \n",
       "Nick Costales                6  2020    27  \n",
       "Kevin Lee Catlett            6  2020    27  \n",
       "Lance A. Bowman              6  2020    27  "
      ]
     },
     "execution_count": 42,
     "metadata": {},
     "output_type": "execute_result"
    }
   ],
   "source": [
    "lockdown.tail()"
   ]
  },
  {
   "cell_type": "code",
   "execution_count": 43,
   "metadata": {
    "execution": {
     "iopub.execute_input": "2020-12-01T14:31:59.242381Z",
     "iopub.status.busy": "2020-12-01T14:31:59.241338Z",
     "iopub.status.idle": "2020-12-01T14:31:59.245073Z",
     "shell.execute_reply": "2020-12-01T14:31:59.245751Z"
    },
    "papermill": {
     "duration": 0.138977,
     "end_time": "2020-12-01T14:31:59.245901",
     "exception": false,
     "start_time": "2020-12-01T14:31:59.106924",
     "status": "completed"
    },
    "tags": []
   },
   "outputs": [
    {
     "name": "stderr",
     "output_type": "stream",
     "text": [
      "/opt/conda/lib/python3.7/site-packages/ipykernel_launcher.py:1: FutureWarning: Series.dt.weekofyear and Series.dt.week have been deprecated.  Please use Series.dt.isocalendar().week instead.\n",
      "  \"\"\"Entry point for launching an IPython kernel.\n"
     ]
    }
   ],
   "source": [
    "data_2020 = data_2020.assign(week=data_2020.date.dt.week)"
   ]
  },
  {
   "cell_type": "code",
   "execution_count": 44,
   "metadata": {
    "execution": {
     "iopub.execute_input": "2020-12-01T14:31:59.451934Z",
     "iopub.status.busy": "2020-12-01T14:31:59.451259Z",
     "iopub.status.idle": "2020-12-01T14:31:59.455510Z",
     "shell.execute_reply": "2020-12-01T14:31:59.454922Z"
    },
    "papermill": {
     "duration": 0.103587,
     "end_time": "2020-12-01T14:31:59.455624",
     "exception": false,
     "start_time": "2020-12-01T14:31:59.352037",
     "status": "completed"
    },
    "tags": []
   },
   "outputs": [],
   "source": [
    "index = data_2020.groupby(\"week\")[\"date\"].min().map(str) + \"-\" + data_2020.groupby(\"week\")[\"date\"].max().map(str)"
   ]
  },
  {
   "cell_type": "code",
   "execution_count": 45,
   "metadata": {
    "execution": {
     "iopub.execute_input": "2020-12-01T14:31:59.624095Z",
     "iopub.status.busy": "2020-12-01T14:31:59.623087Z",
     "iopub.status.idle": "2020-12-01T14:31:59.626535Z",
     "shell.execute_reply": "2020-12-01T14:31:59.627301Z"
    },
    "papermill": {
     "duration": 0.09067,
     "end_time": "2020-12-01T14:31:59.627509",
     "exception": false,
     "start_time": "2020-12-01T14:31:59.536839",
     "status": "completed"
    },
    "tags": []
   },
   "outputs": [],
   "source": [
    "index = [i.replace(\"00:00:00\", \"\") for i in index]\n",
    "\n",
    "index = [i.replace(\"2020-\", \"\") for i in index]"
   ]
  },
  {
   "cell_type": "code",
   "execution_count": 46,
   "metadata": {
    "execution": {
     "iopub.execute_input": "2020-12-01T14:31:59.836081Z",
     "iopub.status.busy": "2020-12-01T14:31:59.835238Z",
     "iopub.status.idle": "2020-12-01T14:32:00.140132Z",
     "shell.execute_reply": "2020-12-01T14:32:00.139454Z"
    },
    "papermill": {
     "duration": 0.42386,
     "end_time": "2020-12-01T14:32:00.140263",
     "exception": false,
     "start_time": "2020-12-01T14:31:59.716403",
     "status": "completed"
    },
    "tags": []
   },
   "outputs": [
    {
     "data": {
      "image/png": "[encoded data removed]",
      "text/plain": [
       "<Figure size 1080x504 with 1 Axes>"
      ]
     },
     "metadata": {
      "needs_background": "light"
     },
     "output_type": "display_data"
    }
   ],
   "source": [
    "plt.figure(figsize=(15, 7))\n",
    "\n",
    "sns.barplot(y=data_2020.groupby(\"week\").size()[21:], x=index[21:], palette=\"summer\", saturation=.5, errcolor=\".2\", edgecolor=\".2\")\n",
    "\n",
    "plt.xticks(rotation=65)\n",
    "\n",
    "plt.title(\"Number of Weekly Police Deaths following the Death of George Floyd\")\n",
    "plt.ylabel(\"Number of Police Deaths\")\n",
    "plt.xlabel(\"Week\")\n",
    "\n",
    "plt.show()"
   ]
  },
  {
   "cell_type": "markdown",
   "metadata": {
    "papermill": {
     "duration": 0.117047,
     "end_time": "2020-12-01T14:32:00.373863",
     "exception": false,
     "start_time": "2020-12-01T14:32:00.256816",
     "status": "completed"
    },
    "tags": []
   },
   "source": [
    "## Geospatial Analysis"
   ]
  },
  {
   "cell_type": "code",
   "execution_count": 47,
   "metadata": {
    "execution": {
     "iopub.execute_input": "2020-12-01T14:32:00.644740Z",
     "iopub.status.busy": "2020-12-01T14:32:00.640506Z",
     "iopub.status.idle": "2020-12-01T14:32:00.732352Z",
     "shell.execute_reply": "2020-12-01T14:32:00.731797Z"
    },
    "papermill": {
     "duration": 0.242691,
     "end_time": "2020-12-01T14:32:00.732465",
     "exception": false,
     "start_time": "2020-12-01T14:32:00.489774",
     "status": "completed"
    },
    "tags": []
   },
   "outputs": [
    {
     "data": {
      "text/html": [
       "<div>\n",
       "<style scoped>\n",
       "    .dataframe tbody tr th:only-of-type {\n",
       "        vertical-align: middle;\n",
       "    }\n",
       "\n",
       "    .dataframe tbody tr th {\n",
       "        vertical-align: top;\n",
       "    }\n",
       "\n",
       "    .dataframe thead th {\n",
       "        text-align: right;\n",
       "    }\n",
       "</style>\n",
       "<table border=\"1\" class=\"dataframe\">\n",
       "  <thead>\n",
       "    <tr style=\"text-align: right;\">\n",
       "      <th></th>\n",
       "      <th>pop_est</th>\n",
       "      <th>continent</th>\n",
       "      <th>name</th>\n",
       "      <th>iso_a3</th>\n",
       "      <th>gdp_md_est</th>\n",
       "      <th>geometry</th>\n",
       "    </tr>\n",
       "  </thead>\n",
       "  <tbody>\n",
       "    <tr>\n",
       "      <th>4</th>\n",
       "      <td>326625791</td>\n",
       "      <td>North America</td>\n",
       "      <td>United States of America</td>\n",
       "      <td>USA</td>\n",
       "      <td>18560000.0</td>\n",
       "      <td>MULTIPOLYGON (((-122.84000 49.00000, -120.0000...</td>\n",
       "    </tr>\n",
       "  </tbody>\n",
       "</table>\n",
       "</div>"
      ],
      "text/plain": [
       "     pop_est      continent                      name iso_a3  gdp_md_est  \\\n",
       "4  326625791  North America  United States of America    USA  18560000.0   \n",
       "\n",
       "                                            geometry  \n",
       "4  MULTIPOLYGON (((-122.84000 49.00000, -120.0000...  "
      ]
     },
     "execution_count": 47,
     "metadata": {},
     "output_type": "execute_result"
    }
   ],
   "source": [
    "filepath = gpd.datasets.get_path(\"naturalearth_lowres\")\n",
    "\n",
    "world_map = gpd.read_file(filepath)\n",
    "\n",
    "# Load a GeoDataFrame with country boundaries in North/South America, print the first 5 rows\n",
    "world = gpd.read_file(gpd.datasets.get_path('naturalearth_lowres'))\n",
    "americas = world.loc[world['name']==\"United States of America\"]\n",
    "americas.head()"
   ]
  },
  {
   "cell_type": "code",
   "execution_count": 48,
   "metadata": {
    "execution": {
     "iopub.execute_input": "2020-12-01T14:32:00.902836Z",
     "iopub.status.busy": "2020-12-01T14:32:00.901927Z",
     "iopub.status.idle": "2020-12-01T14:32:00.904366Z",
     "shell.execute_reply": "2020-12-01T14:32:00.905131Z"
    },
    "papermill": {
     "duration": 0.091761,
     "end_time": "2020-12-01T14:32:00.905311",
     "exception": false,
     "start_time": "2020-12-01T14:32:00.813550",
     "status": "completed"
    },
    "tags": []
   },
   "outputs": [],
   "source": [
    "US_map = world_map[world_map.name == \"United States of America\"]"
   ]
  },
  {
   "cell_type": "code",
   "execution_count": 49,
   "metadata": {
    "execution": {
     "iopub.execute_input": "2020-12-01T14:32:01.073076Z",
     "iopub.status.busy": "2020-12-01T14:32:01.072244Z",
     "iopub.status.idle": "2020-12-01T14:32:01.312863Z",
     "shell.execute_reply": "2020-12-01T14:32:01.312261Z"
    },
    "papermill": {
     "duration": 0.325873,
     "end_time": "2020-12-01T14:32:01.312977",
     "exception": false,
     "start_time": "2020-12-01T14:32:00.987104",
     "status": "completed"
    },
    "tags": []
   },
   "outputs": [
    {
     "data": {
      "text/plain": [
       "<matplotlib.axes._subplots.AxesSubplot at 0x7f5c0e0f7d50>"
      ]
     },
     "execution_count": 49,
     "metadata": {},
     "output_type": "execute_result"
    },
    {
     "data": {
      "image/png": "[encoded data removed]",
      "text/plain": [
       "<Figure size 432x288 with 1 Axes>"
      ]
     },
     "metadata": {
      "needs_background": "light"
     },
     "output_type": "display_data"
    }
   ],
   "source": [
    "US_map.plot()"
   ]
  },
  {
   "cell_type": "code",
   "execution_count": 50,
   "metadata": {
    "execution": {
     "iopub.execute_input": "2020-12-01T14:32:01.490732Z",
     "iopub.status.busy": "2020-12-01T14:32:01.485790Z",
     "iopub.status.idle": "2020-12-01T14:32:01.658721Z",
     "shell.execute_reply": "2020-12-01T14:32:01.657887Z"
    },
    "papermill": {
     "duration": 0.262156,
     "end_time": "2020-12-01T14:32:01.658849",
     "exception": false,
     "start_time": "2020-12-01T14:32:01.396693",
     "status": "completed"
    },
    "tags": []
   },
   "outputs": [
    {
     "data": {
      "text/plain": [
       "<matplotlib.axes._subplots.AxesSubplot at 0x7f5c0e1cd350>"
      ]
     },
     "execution_count": 50,
     "metadata": {},
     "output_type": "execute_result"
    },
    {
     "data": {
      "image/png": "[encoded data removed]",
      "text/plain": [
       "<Figure size 432x288 with 1 Axes>"
      ]
     },
     "metadata": {
      "needs_background": "light"
     },
     "output_type": "display_data"
    }
   ],
   "source": [
    "americas.plot()"
   ]
  },
  {
   "cell_type": "code",
   "execution_count": 51,
   "metadata": {
    "execution": {
     "iopub.execute_input": "2020-12-01T14:32:01.917821Z",
     "iopub.status.busy": "2020-12-01T14:32:01.911530Z",
     "iopub.status.idle": "2020-12-01T14:32:02.798463Z",
     "shell.execute_reply": "2020-12-01T14:32:02.798989Z"
    },
    "papermill": {
     "duration": 1.018092,
     "end_time": "2020-12-01T14:32:02.799173",
     "exception": false,
     "start_time": "2020-12-01T14:32:01.781081",
     "status": "completed"
    },
    "tags": []
   },
   "outputs": [
    {
     "data": {
      "text/plain": [
       "(20.0, 50.0)"
      ]
     },
     "execution_count": 51,
     "metadata": {},
     "output_type": "execute_result"
    },
    {
     "data": {
      "image/png": "[encoded data removed]",
      "text/plain": [
       "<Figure size 1080x720 with 1 Axes>"
      ]
     },
     "metadata": {
      "needs_background": "light"
     },
     "output_type": "display_data"
    }
   ],
   "source": [
    "ax = US_map.plot(figsize=(15,10), color='white', linestyle=':', edgecolor='black')\n",
    "killings.plot(markersize=2, ax=ax, c=\"race\", cmap=plt.get_cmap(\"jet\"))\n",
    "\n",
    "\n",
    "\n",
    "#To zoom in\n",
    "ax.set_xlim([-130, -65])\n",
    "ax.set_ylim([20, 50])"
   ]
  },
  {
   "cell_type": "code",
   "execution_count": 52,
   "metadata": {
    "execution": {
     "iopub.execute_input": "2020-12-01T14:32:02.986674Z",
     "iopub.status.busy": "2020-12-01T14:32:02.985862Z",
     "iopub.status.idle": "2020-12-01T14:32:03.002028Z",
     "shell.execute_reply": "2020-12-01T14:32:03.001367Z"
    },
    "papermill": {
     "duration": 0.116233,
     "end_time": "2020-12-01T14:32:03.002179",
     "exception": false,
     "start_time": "2020-12-01T14:32:02.885946",
     "status": "completed"
    },
    "tags": []
   },
   "outputs": [
    {
     "data": {
      "text/html": [
       "<div>\n",
       "<style scoped>\n",
       "    .dataframe tbody tr th:only-of-type {\n",
       "        vertical-align: middle;\n",
       "    }\n",
       "\n",
       "    .dataframe tbody tr th {\n",
       "        vertical-align: top;\n",
       "    }\n",
       "\n",
       "    .dataframe thead th {\n",
       "        text-align: right;\n",
       "    }\n",
       "</style>\n",
       "<table border=\"1\" class=\"dataframe\">\n",
       "  <thead>\n",
       "    <tr style=\"text-align: right;\">\n",
       "      <th></th>\n",
       "      <th>id</th>\n",
       "      <th>date</th>\n",
       "      <th>manner_of_death</th>\n",
       "      <th>armed</th>\n",
       "      <th>age</th>\n",
       "      <th>gender</th>\n",
       "      <th>race</th>\n",
       "      <th>city</th>\n",
       "      <th>state</th>\n",
       "      <th>signs_of_mental_illness</th>\n",
       "      <th>threat_level</th>\n",
       "      <th>flee</th>\n",
       "      <th>body_camera</th>\n",
       "      <th>longitude</th>\n",
       "      <th>latitude</th>\n",
       "      <th>is_geocoding_exact</th>\n",
       "      <th>geometry</th>\n",
       "    </tr>\n",
       "    <tr>\n",
       "      <th>name</th>\n",
       "      <th></th>\n",
       "      <th></th>\n",
       "      <th></th>\n",
       "      <th></th>\n",
       "      <th></th>\n",
       "      <th></th>\n",
       "      <th></th>\n",
       "      <th></th>\n",
       "      <th></th>\n",
       "      <th></th>\n",
       "      <th></th>\n",
       "      <th></th>\n",
       "      <th></th>\n",
       "      <th></th>\n",
       "      <th></th>\n",
       "      <th></th>\n",
       "      <th></th>\n",
       "    </tr>\n",
       "  </thead>\n",
       "  <tbody>\n",
       "    <tr>\n",
       "      <th>Tim Elliot</th>\n",
       "      <td>3</td>\n",
       "      <td>2015-01-02</td>\n",
       "      <td>shot</td>\n",
       "      <td>gun</td>\n",
       "      <td>53.0</td>\n",
       "      <td>M</td>\n",
       "      <td>A</td>\n",
       "      <td>Shelton</td>\n",
       "      <td>WA</td>\n",
       "      <td>True</td>\n",
       "      <td>attack</td>\n",
       "      <td>Not fleeing</td>\n",
       "      <td>False</td>\n",
       "      <td>-123.122</td>\n",
       "      <td>47.247</td>\n",
       "      <td>True</td>\n",
       "      <td>POINT (-123.12200 47.24700)</td>\n",
       "    </tr>\n",
       "    <tr>\n",
       "      <th>Lewis Lee Lembke</th>\n",
       "      <td>4</td>\n",
       "      <td>2015-01-02</td>\n",
       "      <td>shot</td>\n",
       "      <td>gun</td>\n",
       "      <td>47.0</td>\n",
       "      <td>M</td>\n",
       "      <td>W</td>\n",
       "      <td>Aloha</td>\n",
       "      <td>OR</td>\n",
       "      <td>False</td>\n",
       "      <td>attack</td>\n",
       "      <td>Not fleeing</td>\n",
       "      <td>False</td>\n",
       "      <td>-122.892</td>\n",
       "      <td>45.487</td>\n",
       "      <td>True</td>\n",
       "      <td>POINT (-122.89200 45.48700)</td>\n",
       "    </tr>\n",
       "    <tr>\n",
       "      <th>John Paul Quintero</th>\n",
       "      <td>5</td>\n",
       "      <td>2015-01-03</td>\n",
       "      <td>shot and Tasered</td>\n",
       "      <td>unarmed</td>\n",
       "      <td>23.0</td>\n",
       "      <td>M</td>\n",
       "      <td>H</td>\n",
       "      <td>Wichita</td>\n",
       "      <td>KS</td>\n",
       "      <td>False</td>\n",
       "      <td>other</td>\n",
       "      <td>Not fleeing</td>\n",
       "      <td>False</td>\n",
       "      <td>-97.281</td>\n",
       "      <td>37.695</td>\n",
       "      <td>True</td>\n",
       "      <td>POINT (-97.28100 37.69500)</td>\n",
       "    </tr>\n",
       "    <tr>\n",
       "      <th>Matthew Hoffman</th>\n",
       "      <td>8</td>\n",
       "      <td>2015-01-04</td>\n",
       "      <td>shot</td>\n",
       "      <td>toy weapon</td>\n",
       "      <td>32.0</td>\n",
       "      <td>M</td>\n",
       "      <td>W</td>\n",
       "      <td>San Francisco</td>\n",
       "      <td>CA</td>\n",
       "      <td>True</td>\n",
       "      <td>attack</td>\n",
       "      <td>Not fleeing</td>\n",
       "      <td>False</td>\n",
       "      <td>-122.422</td>\n",
       "      <td>37.763</td>\n",
       "      <td>True</td>\n",
       "      <td>POINT (-122.42200 37.76300)</td>\n",
       "    </tr>\n",
       "    <tr>\n",
       "      <th>Michael Rodriguez</th>\n",
       "      <td>9</td>\n",
       "      <td>2015-01-04</td>\n",
       "      <td>shot</td>\n",
       "      <td>nail gun</td>\n",
       "      <td>39.0</td>\n",
       "      <td>M</td>\n",
       "      <td>H</td>\n",
       "      <td>Evans</td>\n",
       "      <td>CO</td>\n",
       "      <td>False</td>\n",
       "      <td>attack</td>\n",
       "      <td>Not fleeing</td>\n",
       "      <td>False</td>\n",
       "      <td>-104.692</td>\n",
       "      <td>40.384</td>\n",
       "      <td>True</td>\n",
       "      <td>POINT (-104.69200 40.38400)</td>\n",
       "    </tr>\n",
       "  </tbody>\n",
       "</table>\n",
       "</div>"
      ],
      "text/plain": [
       "                    id       date   manner_of_death       armed   age gender  \\\n",
       "name                                                                           \n",
       "Tim Elliot           3 2015-01-02              shot         gun  53.0      M   \n",
       "Lewis Lee Lembke     4 2015-01-02              shot         gun  47.0      M   \n",
       "John Paul Quintero   5 2015-01-03  shot and Tasered     unarmed  23.0      M   \n",
       "Matthew Hoffman      8 2015-01-04              shot  toy weapon  32.0      M   \n",
       "Michael Rodriguez    9 2015-01-04              shot    nail gun  39.0      M   \n",
       "\n",
       "                   race           city state  signs_of_mental_illness  \\\n",
       "name                                                                    \n",
       "Tim Elliot            A        Shelton    WA                     True   \n",
       "Lewis Lee Lembke      W          Aloha    OR                    False   \n",
       "John Paul Quintero    H        Wichita    KS                    False   \n",
       "Matthew Hoffman       W  San Francisco    CA                     True   \n",
       "Michael Rodriguez     H          Evans    CO                    False   \n",
       "\n",
       "                   threat_level         flee  body_camera  longitude  \\\n",
       "name                                                                   \n",
       "Tim Elliot               attack  Not fleeing        False   -123.122   \n",
       "Lewis Lee Lembke         attack  Not fleeing        False   -122.892   \n",
       "John Paul Quintero        other  Not fleeing        False    -97.281   \n",
       "Matthew Hoffman          attack  Not fleeing        False   -122.422   \n",
       "Michael Rodriguez        attack  Not fleeing        False   -104.692   \n",
       "\n",
       "                    latitude  is_geocoding_exact                     geometry  \n",
       "name                                                                           \n",
       "Tim Elliot            47.247                True  POINT (-123.12200 47.24700)  \n",
       "Lewis Lee Lembke      45.487                True  POINT (-122.89200 45.48700)  \n",
       "John Paul Quintero    37.695                True   POINT (-97.28100 37.69500)  \n",
       "Matthew Hoffman       37.763                True  POINT (-122.42200 37.76300)  \n",
       "Michael Rodriguez     40.384                True  POINT (-104.69200 40.38400)  "
      ]
     },
     "execution_count": 52,
     "metadata": {},
     "output_type": "execute_result"
    }
   ],
   "source": [
    "killings.head()"
   ]
  },
  {
   "cell_type": "code",
   "execution_count": 53,
   "metadata": {
    "execution": {
     "iopub.execute_input": "2020-12-01T14:32:03.271802Z",
     "iopub.status.busy": "2020-12-01T14:32:03.270890Z",
     "iopub.status.idle": "2020-12-01T14:32:03.342199Z",
     "shell.execute_reply": "2020-12-01T14:32:03.341420Z"
    },
    "papermill": {
     "duration": 0.208816,
     "end_time": "2020-12-01T14:32:03.342335",
     "exception": false,
     "start_time": "2020-12-01T14:32:03.133519",
     "status": "completed"
    },
    "tags": []
   },
   "outputs": [],
   "source": [
    "US_map.plot?"
   ]
  },
  {
   "cell_type": "code",
   "execution_count": null,
   "metadata": {
    "papermill": {
     "duration": 0.126616,
     "end_time": "2020-12-01T14:32:03.596340",
     "exception": false,
     "start_time": "2020-12-01T14:32:03.469724",
     "status": "completed"
    },
    "tags": []
   },
   "outputs": [],
   "source": []
  }
 ],
 "metadata": {
  "kernelspec": {
   "display_name": "Python 3",
   "language": "python",
   "name": "python3"
  },
  "language_info": {
   "codemirror_mode": {
    "name": "ipython",
    "version": 3
   },
   "file_extension": ".py",
   "mimetype": "text/x-python",
   "name": "python",
   "nbconvert_exporter": "python",
   "pygments_lexer": "ipython3",
   "version": "3.7.6"
  },
  "papermill": {
   "duration": 60.845431,
   "end_time": "2020-12-01T14:32:03.833006",
   "environment_variables": {},
   "exception": null,
   "input_path": "__notebook__.ipynb",
   "output_path": "__notebook__.ipynb",
   "parameters": {},
   "start_time": "2020-12-01T14:31:02.987575",
   "version": "2.1.0"
  }
 },
 "nbformat": 4,
 "nbformat_minor": 4
}
